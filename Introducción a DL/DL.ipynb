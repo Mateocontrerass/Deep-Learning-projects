{
 "cells": [
  {
   "cell_type": "code",
   "execution_count": 175,
   "metadata": {},
   "outputs": [],
   "source": [
    "import tensorflow as tf\n",
    "from tensorflow import keras\n",
    "from tensorflow.keras import layers\n",
    "import pandas as pd"
   ]
  },
  {
   "cell_type": "code",
   "execution_count": 176,
   "metadata": {},
   "outputs": [],
   "source": [
    "cereal = pd.read_csv(\"C:\\\\Users\\\\Mateo\\\\OneDrive\\\\Documentos\\\\GitHub\\\\Deep-Learning-projects\\\\Introducción a DL\\\\data\\\\cereal.csv\")"
   ]
  },
  {
   "cell_type": "code",
   "execution_count": 177,
   "metadata": {},
   "outputs": [
    {
     "data": {
      "text/html": [
       "<div>\n",
       "<style scoped>\n",
       "    .dataframe tbody tr th:only-of-type {\n",
       "        vertical-align: middle;\n",
       "    }\n",
       "\n",
       "    .dataframe tbody tr th {\n",
       "        vertical-align: top;\n",
       "    }\n",
       "\n",
       "    .dataframe thead th {\n",
       "        text-align: right;\n",
       "    }\n",
       "</style>\n",
       "<table border=\"1\" class=\"dataframe\">\n",
       "  <thead>\n",
       "    <tr style=\"text-align: right;\">\n",
       "      <th></th>\n",
       "      <th>name</th>\n",
       "      <th>mfr</th>\n",
       "      <th>type</th>\n",
       "      <th>calories</th>\n",
       "      <th>protein</th>\n",
       "      <th>fat</th>\n",
       "      <th>sodium</th>\n",
       "      <th>fiber</th>\n",
       "      <th>carbo</th>\n",
       "      <th>sugars</th>\n",
       "      <th>potass</th>\n",
       "      <th>vitamins</th>\n",
       "      <th>shelf</th>\n",
       "      <th>weight</th>\n",
       "      <th>cups</th>\n",
       "      <th>rating</th>\n",
       "    </tr>\n",
       "  </thead>\n",
       "  <tbody>\n",
       "    <tr>\n",
       "      <th>0</th>\n",
       "      <td>100% Bran</td>\n",
       "      <td>N</td>\n",
       "      <td>C</td>\n",
       "      <td>70</td>\n",
       "      <td>4</td>\n",
       "      <td>1</td>\n",
       "      <td>130</td>\n",
       "      <td>10.0</td>\n",
       "      <td>5.0</td>\n",
       "      <td>6</td>\n",
       "      <td>280</td>\n",
       "      <td>25</td>\n",
       "      <td>3</td>\n",
       "      <td>1.0</td>\n",
       "      <td>0.33</td>\n",
       "      <td>68.402973</td>\n",
       "    </tr>\n",
       "    <tr>\n",
       "      <th>1</th>\n",
       "      <td>100% Natural Bran</td>\n",
       "      <td>Q</td>\n",
       "      <td>C</td>\n",
       "      <td>120</td>\n",
       "      <td>3</td>\n",
       "      <td>5</td>\n",
       "      <td>15</td>\n",
       "      <td>2.0</td>\n",
       "      <td>8.0</td>\n",
       "      <td>8</td>\n",
       "      <td>135</td>\n",
       "      <td>0</td>\n",
       "      <td>3</td>\n",
       "      <td>1.0</td>\n",
       "      <td>1.00</td>\n",
       "      <td>33.983679</td>\n",
       "    </tr>\n",
       "    <tr>\n",
       "      <th>2</th>\n",
       "      <td>All-Bran</td>\n",
       "      <td>K</td>\n",
       "      <td>C</td>\n",
       "      <td>70</td>\n",
       "      <td>4</td>\n",
       "      <td>1</td>\n",
       "      <td>260</td>\n",
       "      <td>9.0</td>\n",
       "      <td>7.0</td>\n",
       "      <td>5</td>\n",
       "      <td>320</td>\n",
       "      <td>25</td>\n",
       "      <td>3</td>\n",
       "      <td>1.0</td>\n",
       "      <td>0.33</td>\n",
       "      <td>59.425505</td>\n",
       "    </tr>\n",
       "    <tr>\n",
       "      <th>3</th>\n",
       "      <td>All-Bran with Extra Fiber</td>\n",
       "      <td>K</td>\n",
       "      <td>C</td>\n",
       "      <td>50</td>\n",
       "      <td>4</td>\n",
       "      <td>0</td>\n",
       "      <td>140</td>\n",
       "      <td>14.0</td>\n",
       "      <td>8.0</td>\n",
       "      <td>0</td>\n",
       "      <td>330</td>\n",
       "      <td>25</td>\n",
       "      <td>3</td>\n",
       "      <td>1.0</td>\n",
       "      <td>0.50</td>\n",
       "      <td>93.704912</td>\n",
       "    </tr>\n",
       "    <tr>\n",
       "      <th>4</th>\n",
       "      <td>Almond Delight</td>\n",
       "      <td>R</td>\n",
       "      <td>C</td>\n",
       "      <td>110</td>\n",
       "      <td>2</td>\n",
       "      <td>2</td>\n",
       "      <td>200</td>\n",
       "      <td>1.0</td>\n",
       "      <td>14.0</td>\n",
       "      <td>8</td>\n",
       "      <td>-1</td>\n",
       "      <td>25</td>\n",
       "      <td>3</td>\n",
       "      <td>1.0</td>\n",
       "      <td>0.75</td>\n",
       "      <td>34.384843</td>\n",
       "    </tr>\n",
       "    <tr>\n",
       "      <th>...</th>\n",
       "      <td>...</td>\n",
       "      <td>...</td>\n",
       "      <td>...</td>\n",
       "      <td>...</td>\n",
       "      <td>...</td>\n",
       "      <td>...</td>\n",
       "      <td>...</td>\n",
       "      <td>...</td>\n",
       "      <td>...</td>\n",
       "      <td>...</td>\n",
       "      <td>...</td>\n",
       "      <td>...</td>\n",
       "      <td>...</td>\n",
       "      <td>...</td>\n",
       "      <td>...</td>\n",
       "      <td>...</td>\n",
       "    </tr>\n",
       "    <tr>\n",
       "      <th>72</th>\n",
       "      <td>Triples</td>\n",
       "      <td>G</td>\n",
       "      <td>C</td>\n",
       "      <td>110</td>\n",
       "      <td>2</td>\n",
       "      <td>1</td>\n",
       "      <td>250</td>\n",
       "      <td>0.0</td>\n",
       "      <td>21.0</td>\n",
       "      <td>3</td>\n",
       "      <td>60</td>\n",
       "      <td>25</td>\n",
       "      <td>3</td>\n",
       "      <td>1.0</td>\n",
       "      <td>0.75</td>\n",
       "      <td>39.106174</td>\n",
       "    </tr>\n",
       "    <tr>\n",
       "      <th>73</th>\n",
       "      <td>Trix</td>\n",
       "      <td>G</td>\n",
       "      <td>C</td>\n",
       "      <td>110</td>\n",
       "      <td>1</td>\n",
       "      <td>1</td>\n",
       "      <td>140</td>\n",
       "      <td>0.0</td>\n",
       "      <td>13.0</td>\n",
       "      <td>12</td>\n",
       "      <td>25</td>\n",
       "      <td>25</td>\n",
       "      <td>2</td>\n",
       "      <td>1.0</td>\n",
       "      <td>1.00</td>\n",
       "      <td>27.753301</td>\n",
       "    </tr>\n",
       "    <tr>\n",
       "      <th>74</th>\n",
       "      <td>Wheat Chex</td>\n",
       "      <td>R</td>\n",
       "      <td>C</td>\n",
       "      <td>100</td>\n",
       "      <td>3</td>\n",
       "      <td>1</td>\n",
       "      <td>230</td>\n",
       "      <td>3.0</td>\n",
       "      <td>17.0</td>\n",
       "      <td>3</td>\n",
       "      <td>115</td>\n",
       "      <td>25</td>\n",
       "      <td>1</td>\n",
       "      <td>1.0</td>\n",
       "      <td>0.67</td>\n",
       "      <td>49.787445</td>\n",
       "    </tr>\n",
       "    <tr>\n",
       "      <th>75</th>\n",
       "      <td>Wheaties</td>\n",
       "      <td>G</td>\n",
       "      <td>C</td>\n",
       "      <td>100</td>\n",
       "      <td>3</td>\n",
       "      <td>1</td>\n",
       "      <td>200</td>\n",
       "      <td>3.0</td>\n",
       "      <td>17.0</td>\n",
       "      <td>3</td>\n",
       "      <td>110</td>\n",
       "      <td>25</td>\n",
       "      <td>1</td>\n",
       "      <td>1.0</td>\n",
       "      <td>1.00</td>\n",
       "      <td>51.592193</td>\n",
       "    </tr>\n",
       "    <tr>\n",
       "      <th>76</th>\n",
       "      <td>Wheaties Honey Gold</td>\n",
       "      <td>G</td>\n",
       "      <td>C</td>\n",
       "      <td>110</td>\n",
       "      <td>2</td>\n",
       "      <td>1</td>\n",
       "      <td>200</td>\n",
       "      <td>1.0</td>\n",
       "      <td>16.0</td>\n",
       "      <td>8</td>\n",
       "      <td>60</td>\n",
       "      <td>25</td>\n",
       "      <td>1</td>\n",
       "      <td>1.0</td>\n",
       "      <td>0.75</td>\n",
       "      <td>36.187559</td>\n",
       "    </tr>\n",
       "  </tbody>\n",
       "</table>\n",
       "<p>77 rows × 16 columns</p>\n",
       "</div>"
      ],
      "text/plain": [
       "                         name mfr type  calories  protein  fat  sodium  fiber  \\\n",
       "0                   100% Bran   N    C        70        4    1     130   10.0   \n",
       "1           100% Natural Bran   Q    C       120        3    5      15    2.0   \n",
       "2                    All-Bran   K    C        70        4    1     260    9.0   \n",
       "3   All-Bran with Extra Fiber   K    C        50        4    0     140   14.0   \n",
       "4              Almond Delight   R    C       110        2    2     200    1.0   \n",
       "..                        ...  ..  ...       ...      ...  ...     ...    ...   \n",
       "72                    Triples   G    C       110        2    1     250    0.0   \n",
       "73                       Trix   G    C       110        1    1     140    0.0   \n",
       "74                 Wheat Chex   R    C       100        3    1     230    3.0   \n",
       "75                   Wheaties   G    C       100        3    1     200    3.0   \n",
       "76        Wheaties Honey Gold   G    C       110        2    1     200    1.0   \n",
       "\n",
       "    carbo  sugars  potass  vitamins  shelf  weight  cups     rating  \n",
       "0     5.0       6     280        25      3     1.0  0.33  68.402973  \n",
       "1     8.0       8     135         0      3     1.0  1.00  33.983679  \n",
       "2     7.0       5     320        25      3     1.0  0.33  59.425505  \n",
       "3     8.0       0     330        25      3     1.0  0.50  93.704912  \n",
       "4    14.0       8      -1        25      3     1.0  0.75  34.384843  \n",
       "..    ...     ...     ...       ...    ...     ...   ...        ...  \n",
       "72   21.0       3      60        25      3     1.0  0.75  39.106174  \n",
       "73   13.0      12      25        25      2     1.0  1.00  27.753301  \n",
       "74   17.0       3     115        25      1     1.0  0.67  49.787445  \n",
       "75   17.0       3     110        25      1     1.0  1.00  51.592193  \n",
       "76   16.0       8      60        25      1     1.0  0.75  36.187559  \n",
       "\n",
       "[77 rows x 16 columns]"
      ]
     },
     "execution_count": 177,
     "metadata": {},
     "output_type": "execute_result"
    }
   ],
   "source": [
    "cereal"
   ]
  },
  {
   "attachments": {},
   "cell_type": "markdown",
   "metadata": {},
   "source": [
    "### Infraestructura de un modelo simple de una sola neurona\n"
   ]
  },
  {
   "cell_type": "code",
   "execution_count": 178,
   "metadata": {},
   "outputs": [],
   "source": [
    "# Crear una red con una sola neurona\n",
    "modelo = keras.Sequential([layers.Dense(units=1, input_shape=[3])])\n",
    "\n",
    "# Units = 1 nos dice que solo queremos un output\n",
    "# El input_shape = 3 es para decirle a Keras la dimensión de los inputs "
   ]
  },
  {
   "cell_type": "code",
   "execution_count": 179,
   "metadata": {},
   "outputs": [],
   "source": [
    "# Objetivo es usar los tres input (Sugar, fats and proteins) para determinar las calorias."
   ]
  },
  {
   "attachments": {},
   "cell_type": "markdown",
   "metadata": {},
   "source": [
    "### Infraestructura de un modelo secuencial\n"
   ]
  },
  {
   "cell_type": "code",
   "execution_count": 180,
   "metadata": {},
   "outputs": [],
   "source": [
    "from tensorflow import keras\n",
    "from tensorflow.keras import layers\n",
    "\n",
    "model = keras.Sequential([\n",
    "    # the hidden ReLU layers\n",
    "    layers.Dense(units=4, activation='relu', input_shape=[2]),\n",
    "    layers.Dense(units=3, activation='relu'),\n",
    "    # the linear output layer \n",
    "    layers.Dense(units=1),\n",
    "])"
   ]
  },
  {
   "attachments": {},
   "cell_type": "markdown",
   "metadata": {},
   "source": [
    "## Ejercicio 1 Kaggle : Establecer una red neuronal y dibujar la predicción"
   ]
  },
  {
   "cell_type": "code",
   "execution_count": 181,
   "metadata": {},
   "outputs": [],
   "source": [
    "\n",
    "\n",
    "vinos = pd.read_csv(\"C:\\\\Users\\\\Mateo\\\\OneDrive\\\\Documentos\\\\GitHub\\\\Deep-Learning-projects\\\\Introducción a DL\\\\data\\\\winequality-red.csv\")"
   ]
  },
  {
   "cell_type": "code",
   "execution_count": 182,
   "metadata": {},
   "outputs": [
    {
     "data": {
      "text/html": [
       "<div>\n",
       "<style scoped>\n",
       "    .dataframe tbody tr th:only-of-type {\n",
       "        vertical-align: middle;\n",
       "    }\n",
       "\n",
       "    .dataframe tbody tr th {\n",
       "        vertical-align: top;\n",
       "    }\n",
       "\n",
       "    .dataframe thead th {\n",
       "        text-align: right;\n",
       "    }\n",
       "</style>\n",
       "<table border=\"1\" class=\"dataframe\">\n",
       "  <thead>\n",
       "    <tr style=\"text-align: right;\">\n",
       "      <th></th>\n",
       "      <th>fixed acidity</th>\n",
       "      <th>volatile acidity</th>\n",
       "      <th>citric acid</th>\n",
       "      <th>residual sugar</th>\n",
       "      <th>chlorides</th>\n",
       "      <th>free sulfur dioxide</th>\n",
       "      <th>total sulfur dioxide</th>\n",
       "      <th>density</th>\n",
       "      <th>pH</th>\n",
       "      <th>sulphates</th>\n",
       "      <th>alcohol</th>\n",
       "      <th>quality</th>\n",
       "    </tr>\n",
       "  </thead>\n",
       "  <tbody>\n",
       "    <tr>\n",
       "      <th>0</th>\n",
       "      <td>7.4</td>\n",
       "      <td>0.700</td>\n",
       "      <td>0.00</td>\n",
       "      <td>1.9</td>\n",
       "      <td>0.076</td>\n",
       "      <td>11.0</td>\n",
       "      <td>34.0</td>\n",
       "      <td>0.99780</td>\n",
       "      <td>3.51</td>\n",
       "      <td>0.56</td>\n",
       "      <td>9.4</td>\n",
       "      <td>5</td>\n",
       "    </tr>\n",
       "    <tr>\n",
       "      <th>1</th>\n",
       "      <td>7.8</td>\n",
       "      <td>0.880</td>\n",
       "      <td>0.00</td>\n",
       "      <td>2.6</td>\n",
       "      <td>0.098</td>\n",
       "      <td>25.0</td>\n",
       "      <td>67.0</td>\n",
       "      <td>0.99680</td>\n",
       "      <td>3.20</td>\n",
       "      <td>0.68</td>\n",
       "      <td>9.8</td>\n",
       "      <td>5</td>\n",
       "    </tr>\n",
       "    <tr>\n",
       "      <th>2</th>\n",
       "      <td>7.8</td>\n",
       "      <td>0.760</td>\n",
       "      <td>0.04</td>\n",
       "      <td>2.3</td>\n",
       "      <td>0.092</td>\n",
       "      <td>15.0</td>\n",
       "      <td>54.0</td>\n",
       "      <td>0.99700</td>\n",
       "      <td>3.26</td>\n",
       "      <td>0.65</td>\n",
       "      <td>9.8</td>\n",
       "      <td>5</td>\n",
       "    </tr>\n",
       "    <tr>\n",
       "      <th>3</th>\n",
       "      <td>11.2</td>\n",
       "      <td>0.280</td>\n",
       "      <td>0.56</td>\n",
       "      <td>1.9</td>\n",
       "      <td>0.075</td>\n",
       "      <td>17.0</td>\n",
       "      <td>60.0</td>\n",
       "      <td>0.99800</td>\n",
       "      <td>3.16</td>\n",
       "      <td>0.58</td>\n",
       "      <td>9.8</td>\n",
       "      <td>6</td>\n",
       "    </tr>\n",
       "    <tr>\n",
       "      <th>4</th>\n",
       "      <td>7.4</td>\n",
       "      <td>0.700</td>\n",
       "      <td>0.00</td>\n",
       "      <td>1.9</td>\n",
       "      <td>0.076</td>\n",
       "      <td>11.0</td>\n",
       "      <td>34.0</td>\n",
       "      <td>0.99780</td>\n",
       "      <td>3.51</td>\n",
       "      <td>0.56</td>\n",
       "      <td>9.4</td>\n",
       "      <td>5</td>\n",
       "    </tr>\n",
       "    <tr>\n",
       "      <th>...</th>\n",
       "      <td>...</td>\n",
       "      <td>...</td>\n",
       "      <td>...</td>\n",
       "      <td>...</td>\n",
       "      <td>...</td>\n",
       "      <td>...</td>\n",
       "      <td>...</td>\n",
       "      <td>...</td>\n",
       "      <td>...</td>\n",
       "      <td>...</td>\n",
       "      <td>...</td>\n",
       "      <td>...</td>\n",
       "    </tr>\n",
       "    <tr>\n",
       "      <th>1594</th>\n",
       "      <td>6.2</td>\n",
       "      <td>0.600</td>\n",
       "      <td>0.08</td>\n",
       "      <td>2.0</td>\n",
       "      <td>0.090</td>\n",
       "      <td>32.0</td>\n",
       "      <td>44.0</td>\n",
       "      <td>0.99490</td>\n",
       "      <td>3.45</td>\n",
       "      <td>0.58</td>\n",
       "      <td>10.5</td>\n",
       "      <td>5</td>\n",
       "    </tr>\n",
       "    <tr>\n",
       "      <th>1595</th>\n",
       "      <td>5.9</td>\n",
       "      <td>0.550</td>\n",
       "      <td>0.10</td>\n",
       "      <td>2.2</td>\n",
       "      <td>0.062</td>\n",
       "      <td>39.0</td>\n",
       "      <td>51.0</td>\n",
       "      <td>0.99512</td>\n",
       "      <td>3.52</td>\n",
       "      <td>0.76</td>\n",
       "      <td>11.2</td>\n",
       "      <td>6</td>\n",
       "    </tr>\n",
       "    <tr>\n",
       "      <th>1596</th>\n",
       "      <td>6.3</td>\n",
       "      <td>0.510</td>\n",
       "      <td>0.13</td>\n",
       "      <td>2.3</td>\n",
       "      <td>0.076</td>\n",
       "      <td>29.0</td>\n",
       "      <td>40.0</td>\n",
       "      <td>0.99574</td>\n",
       "      <td>3.42</td>\n",
       "      <td>0.75</td>\n",
       "      <td>11.0</td>\n",
       "      <td>6</td>\n",
       "    </tr>\n",
       "    <tr>\n",
       "      <th>1597</th>\n",
       "      <td>5.9</td>\n",
       "      <td>0.645</td>\n",
       "      <td>0.12</td>\n",
       "      <td>2.0</td>\n",
       "      <td>0.075</td>\n",
       "      <td>32.0</td>\n",
       "      <td>44.0</td>\n",
       "      <td>0.99547</td>\n",
       "      <td>3.57</td>\n",
       "      <td>0.71</td>\n",
       "      <td>10.2</td>\n",
       "      <td>5</td>\n",
       "    </tr>\n",
       "    <tr>\n",
       "      <th>1598</th>\n",
       "      <td>6.0</td>\n",
       "      <td>0.310</td>\n",
       "      <td>0.47</td>\n",
       "      <td>3.6</td>\n",
       "      <td>0.067</td>\n",
       "      <td>18.0</td>\n",
       "      <td>42.0</td>\n",
       "      <td>0.99549</td>\n",
       "      <td>3.39</td>\n",
       "      <td>0.66</td>\n",
       "      <td>11.0</td>\n",
       "      <td>6</td>\n",
       "    </tr>\n",
       "  </tbody>\n",
       "</table>\n",
       "<p>1599 rows × 12 columns</p>\n",
       "</div>"
      ],
      "text/plain": [
       "      fixed acidity  volatile acidity  citric acid  residual sugar  chlorides  \\\n",
       "0               7.4             0.700         0.00             1.9      0.076   \n",
       "1               7.8             0.880         0.00             2.6      0.098   \n",
       "2               7.8             0.760         0.04             2.3      0.092   \n",
       "3              11.2             0.280         0.56             1.9      0.075   \n",
       "4               7.4             0.700         0.00             1.9      0.076   \n",
       "...             ...               ...          ...             ...        ...   \n",
       "1594            6.2             0.600         0.08             2.0      0.090   \n",
       "1595            5.9             0.550         0.10             2.2      0.062   \n",
       "1596            6.3             0.510         0.13             2.3      0.076   \n",
       "1597            5.9             0.645         0.12             2.0      0.075   \n",
       "1598            6.0             0.310         0.47             3.6      0.067   \n",
       "\n",
       "      free sulfur dioxide  total sulfur dioxide  density    pH  sulphates  \\\n",
       "0                    11.0                  34.0  0.99780  3.51       0.56   \n",
       "1                    25.0                  67.0  0.99680  3.20       0.68   \n",
       "2                    15.0                  54.0  0.99700  3.26       0.65   \n",
       "3                    17.0                  60.0  0.99800  3.16       0.58   \n",
       "4                    11.0                  34.0  0.99780  3.51       0.56   \n",
       "...                   ...                   ...      ...   ...        ...   \n",
       "1594                 32.0                  44.0  0.99490  3.45       0.58   \n",
       "1595                 39.0                  51.0  0.99512  3.52       0.76   \n",
       "1596                 29.0                  40.0  0.99574  3.42       0.75   \n",
       "1597                 32.0                  44.0  0.99547  3.57       0.71   \n",
       "1598                 18.0                  42.0  0.99549  3.39       0.66   \n",
       "\n",
       "      alcohol  quality  \n",
       "0         9.4        5  \n",
       "1         9.8        5  \n",
       "2         9.8        5  \n",
       "3         9.8        6  \n",
       "4         9.4        5  \n",
       "...       ...      ...  \n",
       "1594     10.5        5  \n",
       "1595     11.2        6  \n",
       "1596     11.0        6  \n",
       "1597     10.2        5  \n",
       "1598     11.0        6  \n",
       "\n",
       "[1599 rows x 12 columns]"
      ]
     },
     "execution_count": 182,
     "metadata": {},
     "output_type": "execute_result"
    }
   ],
   "source": [
    "vinos"
   ]
  },
  {
   "cell_type": "code",
   "execution_count": 183,
   "metadata": {},
   "outputs": [
    {
     "data": {
      "text/plain": [
       "[<tf.Variable 'dense_152/kernel:0' shape=(11, 1) dtype=float32, numpy=\n",
       " array([[ 0.5590721 ],\n",
       "        [-0.6284518 ],\n",
       "        [-0.3606654 ],\n",
       "        [ 0.39144593],\n",
       "        [ 0.5002338 ],\n",
       "        [ 0.2831036 ],\n",
       "        [-0.23146981],\n",
       "        [-0.6052549 ],\n",
       "        [-0.0407722 ],\n",
       "        [-0.12532938],\n",
       "        [ 0.28066784]], dtype=float32)>,\n",
       " <tf.Variable 'dense_152/bias:0' shape=(1,) dtype=float32, numpy=array([0.], dtype=float32)>]"
      ]
     },
     "execution_count": 183,
     "metadata": {},
     "output_type": "execute_result"
    }
   ],
   "source": [
    "# Para determinar el tamaño de los inputs que va a tener el modelo; -1 para dejar a fuera la Y\n",
    "\n",
    "input_shape = [vinos.shape[1]-1]\n",
    "\n",
    "# Para establecer el modelo\n",
    "\n",
    "modelo = keras.Sequential([layers.Dense(units=1,input_shape=input_shape)])\n",
    "\n",
    "\n",
    "# Para obtener los pesos del modelo\n",
    "modelo.weights\n",
    "\n",
    "# Si se obtienen los pesos del modelo sin entrenar, estos son numeros aleatorios y el sesgo es 0.\n"
   ]
  },
  {
   "cell_type": "code",
   "execution_count": 184,
   "metadata": {},
   "outputs": [
    {
     "name": "stdout",
     "output_type": "stream",
     "text": [
      "4/4 [==============================] - 0s 2ms/step\n"
     ]
    },
    {
     "data": {
      "image/png": "[encoded data removed]",
      "text/plain": [
       "<Figure size 600x400 with 1 Axes>"
      ]
     },
     "metadata": {},
     "output_type": "display_data"
    }
   ],
   "source": [
    "## PARA VER EL DIBUJO\n",
    "\n",
    "import matplotlib.pyplot as plt\n",
    "plt.style.use('seaborn-whitegrid')\n",
    "# Set Matplotlib defaults\n",
    "plt.rc('figure', autolayout=True)\n",
    "plt.rc('axes', labelweight='bold', labelsize='large',\n",
    "       titleweight='bold', titlesize=18, titlepad=10)\n",
    "\n",
    "\n",
    "model = keras.Sequential([\n",
    "    layers.Dense(1, input_shape=[1]),\n",
    "])\n",
    "\n",
    "x = tf.linspace(-1.0, 1.0, 100)\n",
    "y = model.predict(x)\n",
    "\n",
    "plt.figure(dpi=100)\n",
    "plt.plot(x, y, 'k')\n",
    "plt.xlim(-1, 1)\n",
    "plt.ylim(-1, 1)\n",
    "plt.xlabel(\"Input: x\")\n",
    "plt.ylabel(\"Target y\")\n",
    "w, b = model.weights # you could also use model.get_weights() here\n",
    "plt.title(\"Weight: {:0.2f}\\nBias: {:0.2f}\".format(w[0][0], b[0]))\n",
    "plt.show()\n",
    "\n"
   ]
  },
  {
   "attachments": {},
   "cell_type": "markdown",
   "metadata": {},
   "source": [
    "# Parte 2: Hidden layers y Deep NN"
   ]
  },
  {
   "cell_type": "code",
   "execution_count": 185,
   "metadata": {},
   "outputs": [],
   "source": [
    "model = keras.Sequential([\n",
    "    #Hidden ReLU layers\n",
    "    layers.Dense(units=512, input_shape=input_shape, activation=\"relu\"),\n",
    "    layers.Dense(units=512,  activation=\"relu\"),\n",
    "    layers.Dense(units=512,  activation=\"relu\"),\n",
    "    #salida\n",
    "    layers.Dense(units=1)\n",
    "    \n",
    "])\n",
    "\n",
    "\n",
    "# Units (?)\n",
    "# No of layers (?)\n"
   ]
  },
  {
   "attachments": {},
   "cell_type": "markdown",
   "metadata": {},
   "source": [
    "### Otra forma de escribir el modelo de arriba"
   ]
  },
  {
   "cell_type": "code",
   "execution_count": 186,
   "metadata": {},
   "outputs": [],
   "source": [
    "model = keras.Sequential([\n",
    "    layers.Dense(units=512,input_shape=input_shape),\n",
    "    layers.Activation(\"relu\"),\n",
    "    layers.Dense(units=512),\n",
    "    layers.Activation(\"relu\"),\n",
    "    layers.Dense(units=512),\n",
    "    layers.Activation(\"relu\"),\n",
    "    layers.Dense(1)\n",
    "])"
   ]
  },
  {
   "attachments": {},
   "cell_type": "markdown",
   "metadata": {},
   "source": [
    "##  Parte 3: Como entrenar la red neuronal"
   ]
  },
  {
   "attachments": {},
   "cell_type": "markdown",
   "metadata": {},
   "source": [
    "Conceptos importantes:\n",
    "\n",
    "Batch: Mini muestra de la muestra de entrenamiento.\n",
    "\n",
    "Epoch: Cuantas veces el modelo va a pasar por cada muestra de entrenamiento\n"
   ]
  },
  {
   "cell_type": "code",
   "execution_count": 187,
   "metadata": {},
   "outputs": [],
   "source": [
    "model.compile(\n",
    "    optimizer=\"adam\",\n",
    "    loss=\"mae\",\n",
    ")\n",
    "\n",
    "# El optimizador ADAM es un algoritmo para propositos generales, casi como \"auto tuneado\"."
   ]
  },
  {
   "cell_type": "code",
   "execution_count": 188,
   "metadata": {},
   "outputs": [],
   "source": [
    "# Bases de entrenamiento y validación\n",
    "entrenamiento = vinos.sample(frac=0.7,random_state=0)\n",
    "validacion = vinos.drop(entrenamiento.index)\n",
    "\n",
    "# Escalar la información\n",
    "\n",
    "max_ = entrenamiento.max(axis=0)\n",
    "min_ = entrenamiento.min(axis=0)\n",
    "df_train = (entrenamiento - min_) / (max_ - min_)\n",
    "df_valid = (validacion - min_) / (max_ - min_)\n",
    " ## escalo con respecto a train siempre?\n",
    "\n",
    "# Separar las X de las Y para entrenamiento y validación\n",
    "\n",
    "X_train_v = df_train.drop('quality', axis=1)\n",
    "X_valid_v = df_valid.drop('quality', axis=1)\n",
    "y_train_v = df_train['quality']\n",
    "y_valid_v = df_valid['quality']\n"
   ]
  },
  {
   "cell_type": "code",
   "execution_count": 189,
   "metadata": {},
   "outputs": [
    {
     "name": "stdout",
     "output_type": "stream",
     "text": [
      "(1119, 11)\n"
     ]
    }
   ],
   "source": [
    "# Ahora el tamaño del input\n",
    "\n",
    "print(X_train_v.shape)\n",
    "#11 columnas de input\n",
    "input_shape=[X_train_v.shape[1]]"
   ]
  },
  {
   "cell_type": "code",
   "execution_count": 190,
   "metadata": {},
   "outputs": [
    {
     "name": "stdout",
     "output_type": "stream",
     "text": [
      "Epoch 1/10\n",
      "5/5 [==============================] - 1s 63ms/step - loss: 0.2663 - val_loss: 0.1389\n",
      "Epoch 2/10\n",
      "5/5 [==============================] - 0s 28ms/step - loss: 0.1480 - val_loss: 0.1265\n",
      "Epoch 3/10\n",
      "5/5 [==============================] - 0s 28ms/step - loss: 0.1249 - val_loss: 0.1162\n",
      "Epoch 4/10\n",
      "5/5 [==============================] - 0s 26ms/step - loss: 0.1158 - val_loss: 0.1088\n",
      "Epoch 5/10\n",
      "5/5 [==============================] - 0s 27ms/step - loss: 0.1094 - val_loss: 0.1072\n",
      "Epoch 6/10\n",
      "5/5 [==============================] - 0s 27ms/step - loss: 0.1059 - val_loss: 0.1018\n",
      "Epoch 7/10\n",
      "5/5 [==============================] - 0s 27ms/step - loss: 0.1048 - val_loss: 0.1066\n",
      "Epoch 8/10\n",
      "5/5 [==============================] - 0s 27ms/step - loss: 0.1035 - val_loss: 0.1024\n",
      "Epoch 9/10\n",
      "5/5 [==============================] - 0s 26ms/step - loss: 0.1018 - val_loss: 0.1009\n",
      "Epoch 10/10\n",
      "5/5 [==============================] - 0s 27ms/step - loss: 0.1017 - val_loss: 0.1047\n"
     ]
    }
   ],
   "source": [
    "# Crear la red neuronal\n",
    "\n",
    "modelo = keras.Sequential([\n",
    "    layers.Dense(units =512 , input_shape=input_shape, activation=\"relu\"),\n",
    "    layers.Dense(units =512 , activation=\"relu\"),\n",
    "    layers.Dense(units =512 , activation=\"relu\"),\n",
    "    layers.Dense(units =1)\n",
    "    ])\n",
    "\n",
    "# Establecemos el optimizador\n",
    "\n",
    "model.compile(\n",
    "    optimizer=\"adam\",\n",
    "    loss=\"mae\"\n",
    ")\n",
    "\n",
    "# Entrenamos el modelo\n",
    "\n",
    "fitted = model.fit(\n",
    "    X_train_v, y_train_v,\n",
    "    validation_data=(X_valid_v,y_valid_v),\n",
    "    batch_size=256,\n",
    "    epochs=10\n",
    ")\n"
   ]
  },
  {
   "attachments": {},
   "cell_type": "markdown",
   "metadata": {},
   "source": [
    "### Dibujo de la perdida"
   ]
  },
  {
   "cell_type": "code",
   "execution_count": 191,
   "metadata": {},
   "outputs": [
    {
     "data": {
      "text/plain": [
       "<AxesSubplot:>"
      ]
     },
     "execution_count": 191,
     "metadata": {},
     "output_type": "execute_result"
    },
    {
     "data": {
      "image/png": "[encoded data removed]",
      "text/plain": [
       "<Figure size 432x288 with 1 Axes>"
      ]
     },
     "metadata": {},
     "output_type": "display_data"
    }
   ],
   "source": [
    "historial = pd.DataFrame(fitted.history)\n",
    "historial[\"loss\"].plot()"
   ]
  },
  {
   "attachments": {},
   "cell_type": "markdown",
   "metadata": {},
   "source": [
    "# Ejercicio 2 : Predecir utilizando una NN"
   ]
  },
  {
   "cell_type": "code",
   "execution_count": 192,
   "metadata": {},
   "outputs": [],
   "source": [
    "# Cargar la base\n",
    "fuel = pd.read_csv(\"C:\\\\Users\\\\Mateo\\\\OneDrive\\\\Documentos\\\\GitHub\\\\Deep-Learning-projects\\\\Introducción a DL\\\\data\\\\fuel.csv\")"
   ]
  },
  {
   "cell_type": "code",
   "execution_count": 193,
   "metadata": {},
   "outputs": [],
   "source": [
    "x = fuel.copy()\n",
    "y = fuel.pop(\"FE\")"
   ]
  },
  {
   "cell_type": "code",
   "execution_count": 194,
   "metadata": {},
   "outputs": [],
   "source": [
    "from sklearn.preprocessing import StandardScaler, OneHotEncoder\n",
    "from sklearn.compose import make_column_transformer, make_column_selector\n",
    "from sklearn.model_selection import train_test_split\n",
    "import numpy as np"
   ]
  },
  {
   "cell_type": "code",
   "execution_count": 195,
   "metadata": {},
   "outputs": [],
   "source": [
    "# Preprocesamiento\n",
    "\n",
    "preprocessor = make_column_transformer(\n",
    "    (StandardScaler(),\n",
    "     make_column_selector(dtype_include=np.number)),\n",
    "    (OneHotEncoder(sparse=False),\n",
    "     make_column_selector(dtype_include=object)),\n",
    ")\n",
    "\n",
    "x = preprocessor.fit_transform(x)\n",
    "y = np.log(y) # log en vez de estandarizar\n",
    "\n",
    "input_shape= [x.shape[1]]\n",
    "\n"
   ]
  },
  {
   "cell_type": "code",
   "execution_count": 196,
   "metadata": {},
   "outputs": [],
   "source": [
    "# Establecemos el modelo\n",
    "\n",
    "model = keras.Sequential([\n",
    "    layers.Dense(128, activation='relu', input_shape=input_shape),\n",
    "    layers.Dense(128, activation='relu'),    \n",
    "    layers.Dense(64, activation='relu'),\n",
    "    layers.Dense(1),\n",
    "])\n",
    "\n",
    "# Establecemos el parametro de perdida \n",
    "model.compile(\n",
    "optimizer=\"adam\",\n",
    "loss=\"mae\")\n",
    "\n",
    "\n"
   ]
  },
  {
   "cell_type": "code",
   "execution_count": 197,
   "metadata": {},
   "outputs": [
    {
     "name": "stdout",
     "output_type": "stream",
     "text": [
      "Epoch 1/200\n",
      "7/7 [==============================] - 1s 30ms/step - loss: 3.0788 - val_loss: 2.2731\n",
      "Epoch 2/200\n",
      "7/7 [==============================] - 0s 9ms/step - loss: 1.7060 - val_loss: 0.7977\n",
      "Epoch 3/200\n",
      "7/7 [==============================] - 0s 9ms/step - loss: 0.7854 - val_loss: 0.7936\n",
      "Epoch 4/200\n",
      "7/7 [==============================] - 0s 9ms/step - loss: 0.5520 - val_loss: 0.4636\n",
      "Epoch 5/200\n",
      "7/7 [==============================] - 0s 8ms/step - loss: 0.4555 - val_loss: 0.3208\n",
      "Epoch 6/200\n",
      "7/7 [==============================] - 0s 9ms/step - loss: 0.3345 - val_loss: 0.2722\n",
      "Epoch 7/200\n",
      "7/7 [==============================] - 0s 9ms/step - loss: 0.2497 - val_loss: 0.2192\n",
      "Epoch 8/200\n",
      "7/7 [==============================] - 0s 9ms/step - loss: 0.2070 - val_loss: 0.1879\n",
      "Epoch 9/200\n",
      "7/7 [==============================] - 0s 9ms/step - loss: 0.1790 - val_loss: 0.2071\n",
      "Epoch 10/200\n",
      "7/7 [==============================] - 0s 8ms/step - loss: 0.1922 - val_loss: 0.2088\n",
      "Epoch 11/200\n",
      "7/7 [==============================] - 0s 9ms/step - loss: 0.1725 - val_loss: 0.1989\n",
      "Epoch 12/200\n",
      "7/7 [==============================] - 0s 9ms/step - loss: 0.1476 - val_loss: 0.1205\n",
      "Epoch 13/200\n",
      "7/7 [==============================] - 0s 9ms/step - loss: 0.1208 - val_loss: 0.1418\n",
      "Epoch 14/200\n",
      "7/7 [==============================] - 0s 9ms/step - loss: 0.1235 - val_loss: 0.1089\n",
      "Epoch 15/200\n",
      "7/7 [==============================] - 0s 9ms/step - loss: 0.1079 - val_loss: 0.1117\n",
      "Epoch 16/200\n",
      "7/7 [==============================] - 0s 8ms/step - loss: 0.1013 - val_loss: 0.1174\n",
      "Epoch 17/200\n",
      "7/7 [==============================] - 0s 11ms/step - loss: 0.1036 - val_loss: 0.0951\n",
      "Epoch 18/200\n",
      "7/7 [==============================] - 0s 11ms/step - loss: 0.0820 - val_loss: 0.1004\n",
      "Epoch 19/200\n",
      "7/7 [==============================] - 0s 10ms/step - loss: 0.0843 - val_loss: 0.0854\n",
      "Epoch 20/200\n",
      "7/7 [==============================] - 0s 9ms/step - loss: 0.0876 - val_loss: 0.0783\n",
      "Epoch 21/200\n",
      "7/7 [==============================] - 0s 9ms/step - loss: 0.0801 - val_loss: 0.0847\n",
      "Epoch 22/200\n",
      "7/7 [==============================] - 0s 8ms/step - loss: 0.0739 - val_loss: 0.0823\n",
      "Epoch 23/200\n",
      "7/7 [==============================] - 0s 9ms/step - loss: 0.0769 - val_loss: 0.0737\n",
      "Epoch 24/200\n",
      "7/7 [==============================] - 0s 9ms/step - loss: 0.0677 - val_loss: 0.0734\n",
      "Epoch 25/200\n",
      "7/7 [==============================] - 0s 9ms/step - loss: 0.0644 - val_loss: 0.0714\n",
      "Epoch 26/200\n",
      "7/7 [==============================] - 0s 8ms/step - loss: 0.0603 - val_loss: 0.0772\n",
      "Epoch 27/200\n",
      "7/7 [==============================] - 0s 9ms/step - loss: 0.0616 - val_loss: 0.0757\n",
      "Epoch 28/200\n",
      "7/7 [==============================] - 0s 9ms/step - loss: 0.0663 - val_loss: 0.0722\n",
      "Epoch 29/200\n",
      "7/7 [==============================] - 0s 11ms/step - loss: 0.0530 - val_loss: 0.0708\n",
      "Epoch 30/200\n",
      "7/7 [==============================] - 0s 10ms/step - loss: 0.0542 - val_loss: 0.0634\n",
      "Epoch 31/200\n",
      "7/7 [==============================] - 0s 9ms/step - loss: 0.0516 - val_loss: 0.0635\n",
      "Epoch 32/200\n",
      "7/7 [==============================] - 0s 9ms/step - loss: 0.0543 - val_loss: 0.0623\n",
      "Epoch 33/200\n",
      "7/7 [==============================] - 0s 8ms/step - loss: 0.0627 - val_loss: 0.0669\n",
      "Epoch 34/200\n",
      "7/7 [==============================] - 0s 9ms/step - loss: 0.0599 - val_loss: 0.0686\n",
      "Epoch 35/200\n",
      "7/7 [==============================] - 0s 9ms/step - loss: 0.0507 - val_loss: 0.0679\n",
      "Epoch 36/200\n",
      "7/7 [==============================] - 0s 8ms/step - loss: 0.0532 - val_loss: 0.0554\n",
      "Epoch 37/200\n",
      "7/7 [==============================] - 0s 9ms/step - loss: 0.0488 - val_loss: 0.0753\n",
      "Epoch 38/200\n",
      "7/7 [==============================] - 0s 9ms/step - loss: 0.0572 - val_loss: 0.0624\n",
      "Epoch 39/200\n",
      "7/7 [==============================] - 0s 9ms/step - loss: 0.0509 - val_loss: 0.0709\n",
      "Epoch 40/200\n",
      "7/7 [==============================] - 0s 8ms/step - loss: 0.0623 - val_loss: 0.0874\n",
      "Epoch 41/200\n",
      "7/7 [==============================] - 0s 9ms/step - loss: 0.0694 - val_loss: 0.0823\n",
      "Epoch 42/200\n",
      "7/7 [==============================] - 0s 8ms/step - loss: 0.0523 - val_loss: 0.0681\n",
      "Epoch 43/200\n",
      "7/7 [==============================] - 0s 8ms/step - loss: 0.0506 - val_loss: 0.0722\n",
      "Epoch 44/200\n",
      "7/7 [==============================] - 0s 9ms/step - loss: 0.0535 - val_loss: 0.0662\n",
      "Epoch 45/200\n",
      "7/7 [==============================] - 0s 8ms/step - loss: 0.0506 - val_loss: 0.0774\n",
      "Epoch 46/200\n",
      "7/7 [==============================] - 0s 8ms/step - loss: 0.0554 - val_loss: 0.0630\n",
      "Epoch 47/200\n",
      "7/7 [==============================] - 0s 8ms/step - loss: 0.0499 - val_loss: 0.0560\n",
      "Epoch 48/200\n",
      "7/7 [==============================] - 0s 9ms/step - loss: 0.0416 - val_loss: 0.0556\n",
      "Epoch 49/200\n",
      "7/7 [==============================] - 0s 8ms/step - loss: 0.0381 - val_loss: 0.0590\n",
      "Epoch 50/200\n",
      "7/7 [==============================] - 0s 9ms/step - loss: 0.0406 - val_loss: 0.0576\n",
      "Epoch 51/200\n",
      "7/7 [==============================] - 0s 9ms/step - loss: 0.0422 - val_loss: 0.0502\n",
      "Epoch 52/200\n",
      "7/7 [==============================] - 0s 9ms/step - loss: 0.0375 - val_loss: 0.0630\n",
      "Epoch 53/200\n",
      "7/7 [==============================] - 0s 10ms/step - loss: 0.0453 - val_loss: 0.0550\n",
      "Epoch 54/200\n",
      "7/7 [==============================] - 0s 9ms/step - loss: 0.0399 - val_loss: 0.0494\n",
      "Epoch 55/200\n",
      "7/7 [==============================] - 0s 8ms/step - loss: 0.0404 - val_loss: 0.0670\n",
      "Epoch 56/200\n",
      "7/7 [==============================] - 0s 9ms/step - loss: 0.0450 - val_loss: 0.0537\n",
      "Epoch 57/200\n",
      "7/7 [==============================] - 0s 9ms/step - loss: 0.0399 - val_loss: 0.0629\n",
      "Epoch 58/200\n",
      "7/7 [==============================] - 0s 9ms/step - loss: 0.0392 - val_loss: 0.0509\n",
      "Epoch 59/200\n",
      "7/7 [==============================] - 0s 9ms/step - loss: 0.0356 - val_loss: 0.0562\n",
      "Epoch 60/200\n",
      "7/7 [==============================] - 0s 9ms/step - loss: 0.0379 - val_loss: 0.0517\n",
      "Epoch 61/200\n",
      "7/7 [==============================] - 0s 8ms/step - loss: 0.0373 - val_loss: 0.0511\n",
      "Epoch 62/200\n",
      "7/7 [==============================] - 0s 8ms/step - loss: 0.0339 - val_loss: 0.0513\n",
      "Epoch 63/200\n",
      "7/7 [==============================] - 0s 9ms/step - loss: 0.0343 - val_loss: 0.0575\n",
      "Epoch 64/200\n",
      "7/7 [==============================] - 0s 8ms/step - loss: 0.0406 - val_loss: 0.0700\n",
      "Epoch 65/200\n",
      "7/7 [==============================] - 0s 9ms/step - loss: 0.0485 - val_loss: 0.0561\n",
      "Epoch 66/200\n",
      "7/7 [==============================] - 0s 9ms/step - loss: 0.0521 - val_loss: 0.0491\n",
      "Epoch 67/200\n",
      "7/7 [==============================] - 0s 9ms/step - loss: 0.0368 - val_loss: 0.0505\n",
      "Epoch 68/200\n",
      "7/7 [==============================] - 0s 9ms/step - loss: 0.0390 - val_loss: 0.0552\n",
      "Epoch 69/200\n",
      "7/7 [==============================] - 0s 9ms/step - loss: 0.0351 - val_loss: 0.0520\n",
      "Epoch 70/200\n",
      "7/7 [==============================] - 0s 9ms/step - loss: 0.0372 - val_loss: 0.0621\n",
      "Epoch 71/200\n",
      "7/7 [==============================] - 0s 9ms/step - loss: 0.0395 - val_loss: 0.0557\n",
      "Epoch 72/200\n",
      "7/7 [==============================] - 0s 9ms/step - loss: 0.0355 - val_loss: 0.0604\n",
      "Epoch 73/200\n",
      "7/7 [==============================] - 0s 9ms/step - loss: 0.0425 - val_loss: 0.0503\n",
      "Epoch 74/200\n",
      "7/7 [==============================] - 0s 8ms/step - loss: 0.0422 - val_loss: 0.0480\n",
      "Epoch 75/200\n",
      "7/7 [==============================] - 0s 9ms/step - loss: 0.0352 - val_loss: 0.0609\n",
      "Epoch 76/200\n",
      "7/7 [==============================] - 0s 9ms/step - loss: 0.0411 - val_loss: 0.0473\n",
      "Epoch 77/200\n",
      "7/7 [==============================] - 0s 9ms/step - loss: 0.0347 - val_loss: 0.0507\n",
      "Epoch 78/200\n",
      "7/7 [==============================] - 0s 9ms/step - loss: 0.0331 - val_loss: 0.0430\n",
      "Epoch 79/200\n",
      "7/7 [==============================] - 0s 9ms/step - loss: 0.0291 - val_loss: 0.0617\n",
      "Epoch 80/200\n",
      "7/7 [==============================] - 0s 8ms/step - loss: 0.0399 - val_loss: 0.0527\n",
      "Epoch 81/200\n",
      "7/7 [==============================] - 0s 8ms/step - loss: 0.0508 - val_loss: 0.0623\n",
      "Epoch 82/200\n",
      "7/7 [==============================] - 0s 9ms/step - loss: 0.0465 - val_loss: 0.0497\n",
      "Epoch 83/200\n",
      "7/7 [==============================] - 0s 9ms/step - loss: 0.0457 - val_loss: 0.0708\n",
      "Epoch 84/200\n",
      "7/7 [==============================] - 0s 9ms/step - loss: 0.0551 - val_loss: 0.0599\n",
      "Epoch 85/200\n",
      "7/7 [==============================] - 0s 9ms/step - loss: 0.0418 - val_loss: 0.0588\n",
      "Epoch 86/200\n",
      "7/7 [==============================] - 0s 9ms/step - loss: 0.0390 - val_loss: 0.0472\n",
      "Epoch 87/200\n",
      "7/7 [==============================] - 0s 9ms/step - loss: 0.0318 - val_loss: 0.0473\n",
      "Epoch 88/200\n",
      "7/7 [==============================] - 0s 9ms/step - loss: 0.0352 - val_loss: 0.0508\n",
      "Epoch 89/200\n",
      "7/7 [==============================] - 0s 9ms/step - loss: 0.0397 - val_loss: 0.0518\n",
      "Epoch 90/200\n",
      "7/7 [==============================] - 0s 8ms/step - loss: 0.0338 - val_loss: 0.0428\n",
      "Epoch 91/200\n",
      "7/7 [==============================] - 0s 9ms/step - loss: 0.0307 - val_loss: 0.0653\n",
      "Epoch 92/200\n",
      "7/7 [==============================] - 0s 9ms/step - loss: 0.0451 - val_loss: 0.0499\n",
      "Epoch 93/200\n",
      "7/7 [==============================] - 0s 9ms/step - loss: 0.0309 - val_loss: 0.0458\n",
      "Epoch 94/200\n",
      "7/7 [==============================] - 0s 9ms/step - loss: 0.0322 - val_loss: 0.0468\n",
      "Epoch 95/200\n",
      "7/7 [==============================] - 0s 9ms/step - loss: 0.0324 - val_loss: 0.0504\n",
      "Epoch 96/200\n",
      "7/7 [==============================] - 0s 8ms/step - loss: 0.0374 - val_loss: 0.0423\n",
      "Epoch 97/200\n",
      "7/7 [==============================] - 0s 8ms/step - loss: 0.0336 - val_loss: 0.0489\n",
      "Epoch 98/200\n",
      "7/7 [==============================] - 0s 9ms/step - loss: 0.0321 - val_loss: 0.0547\n",
      "Epoch 99/200\n",
      "7/7 [==============================] - 0s 9ms/step - loss: 0.0374 - val_loss: 0.0647\n",
      "Epoch 100/200\n",
      "7/7 [==============================] - 0s 8ms/step - loss: 0.0394 - val_loss: 0.0447\n",
      "Epoch 101/200\n",
      "7/7 [==============================] - 0s 9ms/step - loss: 0.0273 - val_loss: 0.0577\n",
      "Epoch 102/200\n",
      "7/7 [==============================] - 0s 9ms/step - loss: 0.0379 - val_loss: 0.0470\n",
      "Epoch 103/200\n",
      "7/7 [==============================] - 0s 8ms/step - loss: 0.0315 - val_loss: 0.0575\n",
      "Epoch 104/200\n",
      "7/7 [==============================] - 0s 9ms/step - loss: 0.0384 - val_loss: 0.0461\n",
      "Epoch 105/200\n",
      "7/7 [==============================] - 0s 8ms/step - loss: 0.0352 - val_loss: 0.0465\n",
      "Epoch 106/200\n",
      "7/7 [==============================] - 0s 8ms/step - loss: 0.0362 - val_loss: 0.0511\n",
      "Epoch 107/200\n",
      "7/7 [==============================] - 0s 8ms/step - loss: 0.0336 - val_loss: 0.0469\n",
      "Epoch 108/200\n",
      "7/7 [==============================] - 0s 9ms/step - loss: 0.0317 - val_loss: 0.0465\n",
      "Epoch 109/200\n",
      "7/7 [==============================] - 0s 9ms/step - loss: 0.0362 - val_loss: 0.0477\n",
      "Epoch 110/200\n",
      "7/7 [==============================] - 0s 9ms/step - loss: 0.0418 - val_loss: 0.0469\n",
      "Epoch 111/200\n",
      "7/7 [==============================] - 0s 9ms/step - loss: 0.0350 - val_loss: 0.0555\n",
      "Epoch 112/200\n",
      "7/7 [==============================] - 0s 9ms/step - loss: 0.0353 - val_loss: 0.0540\n",
      "Epoch 113/200\n",
      "7/7 [==============================] - 0s 8ms/step - loss: 0.0401 - val_loss: 0.0491\n",
      "Epoch 114/200\n",
      "7/7 [==============================] - 0s 9ms/step - loss: 0.0319 - val_loss: 0.0441\n",
      "Epoch 115/200\n",
      "7/7 [==============================] - 0s 9ms/step - loss: 0.0298 - val_loss: 0.0495\n",
      "Epoch 116/200\n",
      "7/7 [==============================] - 0s 9ms/step - loss: 0.0319 - val_loss: 0.0448\n",
      "Epoch 117/200\n",
      "7/7 [==============================] - 0s 8ms/step - loss: 0.0285 - val_loss: 0.0428\n",
      "Epoch 118/200\n",
      "7/7 [==============================] - 0s 8ms/step - loss: 0.0278 - val_loss: 0.0671\n",
      "Epoch 119/200\n",
      "7/7 [==============================] - 0s 9ms/step - loss: 0.0392 - val_loss: 0.0432\n",
      "Epoch 120/200\n",
      "7/7 [==============================] - 0s 8ms/step - loss: 0.0326 - val_loss: 0.0433\n",
      "Epoch 121/200\n",
      "7/7 [==============================] - 0s 9ms/step - loss: 0.0275 - val_loss: 0.0466\n",
      "Epoch 122/200\n",
      "7/7 [==============================] - 0s 8ms/step - loss: 0.0266 - val_loss: 0.0653\n",
      "Epoch 123/200\n",
      "7/7 [==============================] - 0s 8ms/step - loss: 0.0498 - val_loss: 0.0535\n",
      "Epoch 124/200\n",
      "7/7 [==============================] - 0s 8ms/step - loss: 0.0485 - val_loss: 0.0526\n",
      "Epoch 125/200\n",
      "7/7 [==============================] - 0s 9ms/step - loss: 0.0292 - val_loss: 0.0475\n",
      "Epoch 126/200\n",
      "7/7 [==============================] - 0s 8ms/step - loss: 0.0326 - val_loss: 0.0498\n",
      "Epoch 127/200\n",
      "7/7 [==============================] - 0s 9ms/step - loss: 0.0342 - val_loss: 0.0636\n",
      "Epoch 128/200\n",
      "7/7 [==============================] - 0s 9ms/step - loss: 0.0429 - val_loss: 0.0524\n",
      "Epoch 129/200\n",
      "7/7 [==============================] - 0s 8ms/step - loss: 0.0413 - val_loss: 0.0535\n",
      "Epoch 130/200\n",
      "7/7 [==============================] - 0s 9ms/step - loss: 0.0360 - val_loss: 0.0502\n",
      "Epoch 131/200\n",
      "7/7 [==============================] - 0s 8ms/step - loss: 0.0376 - val_loss: 0.0466\n",
      "Epoch 132/200\n",
      "7/7 [==============================] - 0s 9ms/step - loss: 0.0387 - val_loss: 0.0439\n",
      "Epoch 133/200\n",
      "7/7 [==============================] - 0s 8ms/step - loss: 0.0331 - val_loss: 0.0522\n",
      "Epoch 134/200\n",
      "7/7 [==============================] - 0s 8ms/step - loss: 0.0419 - val_loss: 0.0490\n",
      "Epoch 135/200\n",
      "7/7 [==============================] - 0s 9ms/step - loss: 0.0362 - val_loss: 0.0482\n",
      "Epoch 136/200\n",
      "7/7 [==============================] - 0s 9ms/step - loss: 0.0328 - val_loss: 0.0594\n",
      "Epoch 137/200\n",
      "7/7 [==============================] - 0s 9ms/step - loss: 0.0413 - val_loss: 0.0489\n",
      "Epoch 138/200\n",
      "7/7 [==============================] - 0s 9ms/step - loss: 0.0328 - val_loss: 0.0424\n",
      "Epoch 139/200\n",
      "7/7 [==============================] - 0s 9ms/step - loss: 0.0291 - val_loss: 0.0464\n",
      "Epoch 140/200\n",
      "7/7 [==============================] - 0s 8ms/step - loss: 0.0265 - val_loss: 0.0417\n",
      "Epoch 141/200\n",
      "7/7 [==============================] - 0s 10ms/step - loss: 0.0261 - val_loss: 0.0520\n",
      "Epoch 142/200\n",
      "7/7 [==============================] - 0s 8ms/step - loss: 0.0341 - val_loss: 0.0424\n",
      "Epoch 143/200\n",
      "7/7 [==============================] - 0s 9ms/step - loss: 0.0296 - val_loss: 0.0400\n",
      "Epoch 144/200\n",
      "7/7 [==============================] - 0s 9ms/step - loss: 0.0246 - val_loss: 0.0421\n",
      "Epoch 145/200\n",
      "7/7 [==============================] - 0s 9ms/step - loss: 0.0264 - val_loss: 0.0514\n",
      "Epoch 146/200\n",
      "7/7 [==============================] - 0s 9ms/step - loss: 0.0309 - val_loss: 0.0453\n",
      "Epoch 147/200\n",
      "7/7 [==============================] - 0s 9ms/step - loss: 0.0305 - val_loss: 0.0388\n",
      "Epoch 148/200\n",
      "7/7 [==============================] - 0s 8ms/step - loss: 0.0234 - val_loss: 0.0584\n",
      "Epoch 149/200\n",
      "7/7 [==============================] - 0s 8ms/step - loss: 0.0385 - val_loss: 0.0603\n",
      "Epoch 150/200\n",
      "7/7 [==============================] - 0s 8ms/step - loss: 0.0491 - val_loss: 0.0631\n",
      "Epoch 151/200\n",
      "7/7 [==============================] - 0s 9ms/step - loss: 0.0388 - val_loss: 0.0663\n",
      "Epoch 152/200\n",
      "7/7 [==============================] - 0s 9ms/step - loss: 0.0439 - val_loss: 0.0538\n",
      "Epoch 153/200\n",
      "7/7 [==============================] - 0s 8ms/step - loss: 0.0369 - val_loss: 0.0405\n",
      "Epoch 154/200\n",
      "7/7 [==============================] - 0s 8ms/step - loss: 0.0322 - val_loss: 0.0543\n",
      "Epoch 155/200\n",
      "7/7 [==============================] - 0s 9ms/step - loss: 0.0355 - val_loss: 0.0491\n",
      "Epoch 156/200\n",
      "7/7 [==============================] - 0s 8ms/step - loss: 0.0317 - val_loss: 0.0522\n",
      "Epoch 157/200\n",
      "7/7 [==============================] - 0s 9ms/step - loss: 0.0336 - val_loss: 0.0518\n",
      "Epoch 158/200\n",
      "7/7 [==============================] - 0s 9ms/step - loss: 0.0325 - val_loss: 0.0413\n",
      "Epoch 159/200\n",
      "7/7 [==============================] - 0s 9ms/step - loss: 0.0282 - val_loss: 0.0400\n",
      "Epoch 160/200\n",
      "7/7 [==============================] - 0s 8ms/step - loss: 0.0264 - val_loss: 0.0430\n",
      "Epoch 161/200\n",
      "7/7 [==============================] - 0s 9ms/step - loss: 0.0247 - val_loss: 0.0446\n",
      "Epoch 162/200\n",
      "7/7 [==============================] - 0s 8ms/step - loss: 0.0278 - val_loss: 0.0511\n",
      "Epoch 163/200\n",
      "7/7 [==============================] - 0s 9ms/step - loss: 0.0318 - val_loss: 0.0369\n",
      "Epoch 164/200\n",
      "7/7 [==============================] - 0s 8ms/step - loss: 0.0232 - val_loss: 0.0376\n",
      "Epoch 165/200\n",
      "7/7 [==============================] - 0s 9ms/step - loss: 0.0244 - val_loss: 0.0447\n",
      "Epoch 166/200\n",
      "7/7 [==============================] - 0s 9ms/step - loss: 0.0256 - val_loss: 0.0411\n",
      "Epoch 167/200\n",
      "7/7 [==============================] - 0s 8ms/step - loss: 0.0230 - val_loss: 0.0412\n",
      "Epoch 168/200\n",
      "7/7 [==============================] - 0s 9ms/step - loss: 0.0254 - val_loss: 0.0372\n",
      "Epoch 169/200\n",
      "7/7 [==============================] - 0s 9ms/step - loss: 0.0202 - val_loss: 0.0393\n",
      "Epoch 170/200\n",
      "7/7 [==============================] - 0s 9ms/step - loss: 0.0222 - val_loss: 0.0575\n",
      "Epoch 171/200\n",
      "7/7 [==============================] - 0s 9ms/step - loss: 0.0413 - val_loss: 0.0422\n",
      "Epoch 172/200\n",
      "7/7 [==============================] - 0s 9ms/step - loss: 0.0306 - val_loss: 0.0408\n",
      "Epoch 173/200\n",
      "7/7 [==============================] - 0s 10ms/step - loss: 0.0278 - val_loss: 0.0498\n",
      "Epoch 174/200\n",
      "7/7 [==============================] - 0s 9ms/step - loss: 0.0399 - val_loss: 0.0497\n",
      "Epoch 175/200\n",
      "7/7 [==============================] - 0s 8ms/step - loss: 0.0366 - val_loss: 0.0448\n",
      "Epoch 176/200\n",
      "7/7 [==============================] - 0s 15ms/step - loss: 0.0398 - val_loss: 0.0428\n",
      "Epoch 177/200\n",
      "7/7 [==============================] - 0s 10ms/step - loss: 0.0297 - val_loss: 0.0362\n",
      "Epoch 178/200\n",
      "7/7 [==============================] - 0s 9ms/step - loss: 0.0243 - val_loss: 0.0398\n",
      "Epoch 179/200\n",
      "7/7 [==============================] - 0s 9ms/step - loss: 0.0268 - val_loss: 0.0505\n",
      "Epoch 180/200\n",
      "7/7 [==============================] - 0s 8ms/step - loss: 0.0344 - val_loss: 0.0482\n",
      "Epoch 181/200\n",
      "7/7 [==============================] - 0s 9ms/step - loss: 0.0315 - val_loss: 0.0524\n",
      "Epoch 182/200\n",
      "7/7 [==============================] - 0s 9ms/step - loss: 0.0343 - val_loss: 0.0496\n",
      "Epoch 183/200\n",
      "7/7 [==============================] - 0s 8ms/step - loss: 0.0348 - val_loss: 0.0627\n",
      "Epoch 184/200\n",
      "7/7 [==============================] - 0s 9ms/step - loss: 0.0573 - val_loss: 0.0861\n",
      "Epoch 185/200\n",
      "7/7 [==============================] - 0s 10ms/step - loss: 0.0633 - val_loss: 0.0776\n",
      "Epoch 186/200\n",
      "7/7 [==============================] - 0s 9ms/step - loss: 0.0446 - val_loss: 0.0456\n",
      "Epoch 187/200\n",
      "7/7 [==============================] - 0s 9ms/step - loss: 0.0403 - val_loss: 0.0502\n",
      "Epoch 188/200\n",
      "7/7 [==============================] - 0s 8ms/step - loss: 0.0366 - val_loss: 0.0723\n",
      "Epoch 189/200\n",
      "7/7 [==============================] - 0s 9ms/step - loss: 0.0525 - val_loss: 0.0596\n",
      "Epoch 190/200\n",
      "7/7 [==============================] - 0s 9ms/step - loss: 0.0345 - val_loss: 0.0621\n",
      "Epoch 191/200\n",
      "7/7 [==============================] - 0s 9ms/step - loss: 0.0481 - val_loss: 0.0585\n",
      "Epoch 192/200\n",
      "7/7 [==============================] - 0s 9ms/step - loss: 0.0404 - val_loss: 0.0388\n",
      "Epoch 193/200\n",
      "7/7 [==============================] - 0s 11ms/step - loss: 0.0299 - val_loss: 0.0370\n",
      "Epoch 194/200\n",
      "7/7 [==============================] - 0s 9ms/step - loss: 0.0280 - val_loss: 0.0552\n",
      "Epoch 195/200\n",
      "7/7 [==============================] - 0s 9ms/step - loss: 0.0373 - val_loss: 0.0384\n",
      "Epoch 196/200\n",
      "7/7 [==============================] - 0s 9ms/step - loss: 0.0338 - val_loss: 0.0441\n",
      "Epoch 197/200\n",
      "7/7 [==============================] - 0s 9ms/step - loss: 0.0284 - val_loss: 0.0405\n",
      "Epoch 198/200\n",
      "7/7 [==============================] - 0s 9ms/step - loss: 0.0252 - val_loss: 0.0374\n",
      "Epoch 199/200\n",
      "7/7 [==============================] - 0s 9ms/step - loss: 0.0233 - val_loss: 0.0509\n",
      "Epoch 200/200\n",
      "7/7 [==============================] - 0s 9ms/step - loss: 0.0290 - val_loss: 0.0543\n"
     ]
    }
   ],
   "source": [
    "# Entrenamos el modelo\n",
    "x_train, x_val, y_train, y_val = train_test_split(x,y, train_size=0.7 ,random_state=0)\n",
    "\n",
    "history = model.fit(\n",
    "    x_train, y_train,\n",
    "    validation_data=(x_val,y_val),\n",
    "    batch_size=128,\n",
    "    epochs=200\n",
    ")\n"
   ]
  },
  {
   "attachments": {},
   "cell_type": "markdown",
   "metadata": {},
   "source": [
    "### Dibujo de la perdida"
   ]
  },
  {
   "cell_type": "code",
   "execution_count": 198,
   "metadata": {},
   "outputs": [
    {
     "data": {
      "image/png": "[encoded data removed]",
      "text/plain": [
       "<Figure size 432x288 with 1 Axes>"
      ]
     },
     "metadata": {},
     "output_type": "display_data"
    }
   ],
   "source": [
    "history_df = pd.DataFrame(history.history)\n",
    "# Start the plot at epoch 5. You can change this to get a different view.\n",
    "history_df.loc[5:, ['loss']].plot();"
   ]
  },
  {
   "attachments": {},
   "cell_type": "markdown",
   "metadata": {},
   "source": [
    "## Parte 4: Controlar el over/under(fitting)\n",
    "\n",
    "Objetivo: Modelar las señales\n",
    "\n",
    "Problema: Mientras se modela la señal se modela tambien se puede modelar el noise, esto no sirve para generalizar la curva.\n",
    "\n"
   ]
  },
  {
   "attachments": {},
   "cell_type": "markdown",
   "metadata": {},
   "source": [
    "### Importante:\n",
    "\n",
    "WIDER: Más unidades a las capas existentes ayuda a capturar relaciones lineales.\n",
    "\n",
    "LONGER: Más capas ayuda a capturar relaciones no lineales."
   ]
  },
  {
   "cell_type": "code",
   "execution_count": 199,
   "metadata": {},
   "outputs": [],
   "source": [
    "model = keras.Sequential([\n",
    "    layers.Dense(16, activation='relu'),\n",
    "    layers.Dense(1),\n",
    "])\n",
    "\n",
    "wider = keras.Sequential([\n",
    "    layers.Dense(32, activation='relu'),\n",
    "    layers.Dense(1),\n",
    "])\n",
    "\n",
    "deeper = keras.Sequential([\n",
    "    layers.Dense(16, activation='relu'),\n",
    "    layers.Dense(16, activation='relu'),\n",
    "    layers.Dense(1),\n",
    "])"
   ]
  },
  {
   "attachments": {},
   "cell_type": "markdown",
   "metadata": {},
   "source": [
    "### Nuevo concepto: Early Stopping\n",
    "\n",
    "##### Interrumpir el proceso de aprendizaje cuando el validation loss comience a aumentar en vez de disminuir, de esta forma se evita seguir modelando el noise.\n",
    "\n",
    "#### Clave : Largo numero de epochs"
   ]
  },
  {
   "cell_type": "code",
   "execution_count": 200,
   "metadata": {},
   "outputs": [],
   "source": [
    "# Metodo para hacer el EarlyStopping\n",
    "\n",
    "from tensorflow.keras.callbacks import EarlyStopping\n",
    "early_stopping = EarlyStopping(\n",
    "    min_delta=0.001, # minimium amount of change to count as an improvement\n",
    "    patience=20, # how many epochs to wait before stopping\n",
    "    restore_best_weights=True,\n",
    ")"
   ]
  },
  {
   "cell_type": "code",
   "execution_count": 201,
   "metadata": {},
   "outputs": [
    {
     "data": {
      "text/html": [
       "<div>\n",
       "<style scoped>\n",
       "    .dataframe tbody tr th:only-of-type {\n",
       "        vertical-align: middle;\n",
       "    }\n",
       "\n",
       "    .dataframe tbody tr th {\n",
       "        vertical-align: top;\n",
       "    }\n",
       "\n",
       "    .dataframe thead th {\n",
       "        text-align: right;\n",
       "    }\n",
       "</style>\n",
       "<table border=\"1\" class=\"dataframe\">\n",
       "  <thead>\n",
       "    <tr style=\"text-align: right;\">\n",
       "      <th></th>\n",
       "      <th>fixed acidity</th>\n",
       "      <th>volatile acidity</th>\n",
       "      <th>citric acid</th>\n",
       "      <th>residual sugar</th>\n",
       "      <th>chlorides</th>\n",
       "      <th>free sulfur dioxide</th>\n",
       "      <th>total sulfur dioxide</th>\n",
       "      <th>density</th>\n",
       "      <th>pH</th>\n",
       "      <th>sulphates</th>\n",
       "      <th>alcohol</th>\n",
       "      <th>quality</th>\n",
       "    </tr>\n",
       "  </thead>\n",
       "  <tbody>\n",
       "    <tr>\n",
       "      <th>0</th>\n",
       "      <td>7.4</td>\n",
       "      <td>0.700</td>\n",
       "      <td>0.00</td>\n",
       "      <td>1.9</td>\n",
       "      <td>0.076</td>\n",
       "      <td>11.0</td>\n",
       "      <td>34.0</td>\n",
       "      <td>0.99780</td>\n",
       "      <td>3.51</td>\n",
       "      <td>0.56</td>\n",
       "      <td>9.4</td>\n",
       "      <td>5</td>\n",
       "    </tr>\n",
       "    <tr>\n",
       "      <th>1</th>\n",
       "      <td>7.8</td>\n",
       "      <td>0.880</td>\n",
       "      <td>0.00</td>\n",
       "      <td>2.6</td>\n",
       "      <td>0.098</td>\n",
       "      <td>25.0</td>\n",
       "      <td>67.0</td>\n",
       "      <td>0.99680</td>\n",
       "      <td>3.20</td>\n",
       "      <td>0.68</td>\n",
       "      <td>9.8</td>\n",
       "      <td>5</td>\n",
       "    </tr>\n",
       "    <tr>\n",
       "      <th>2</th>\n",
       "      <td>7.8</td>\n",
       "      <td>0.760</td>\n",
       "      <td>0.04</td>\n",
       "      <td>2.3</td>\n",
       "      <td>0.092</td>\n",
       "      <td>15.0</td>\n",
       "      <td>54.0</td>\n",
       "      <td>0.99700</td>\n",
       "      <td>3.26</td>\n",
       "      <td>0.65</td>\n",
       "      <td>9.8</td>\n",
       "      <td>5</td>\n",
       "    </tr>\n",
       "    <tr>\n",
       "      <th>3</th>\n",
       "      <td>11.2</td>\n",
       "      <td>0.280</td>\n",
       "      <td>0.56</td>\n",
       "      <td>1.9</td>\n",
       "      <td>0.075</td>\n",
       "      <td>17.0</td>\n",
       "      <td>60.0</td>\n",
       "      <td>0.99800</td>\n",
       "      <td>3.16</td>\n",
       "      <td>0.58</td>\n",
       "      <td>9.8</td>\n",
       "      <td>6</td>\n",
       "    </tr>\n",
       "    <tr>\n",
       "      <th>4</th>\n",
       "      <td>7.4</td>\n",
       "      <td>0.700</td>\n",
       "      <td>0.00</td>\n",
       "      <td>1.9</td>\n",
       "      <td>0.076</td>\n",
       "      <td>11.0</td>\n",
       "      <td>34.0</td>\n",
       "      <td>0.99780</td>\n",
       "      <td>3.51</td>\n",
       "      <td>0.56</td>\n",
       "      <td>9.4</td>\n",
       "      <td>5</td>\n",
       "    </tr>\n",
       "    <tr>\n",
       "      <th>...</th>\n",
       "      <td>...</td>\n",
       "      <td>...</td>\n",
       "      <td>...</td>\n",
       "      <td>...</td>\n",
       "      <td>...</td>\n",
       "      <td>...</td>\n",
       "      <td>...</td>\n",
       "      <td>...</td>\n",
       "      <td>...</td>\n",
       "      <td>...</td>\n",
       "      <td>...</td>\n",
       "      <td>...</td>\n",
       "    </tr>\n",
       "    <tr>\n",
       "      <th>1594</th>\n",
       "      <td>6.2</td>\n",
       "      <td>0.600</td>\n",
       "      <td>0.08</td>\n",
       "      <td>2.0</td>\n",
       "      <td>0.090</td>\n",
       "      <td>32.0</td>\n",
       "      <td>44.0</td>\n",
       "      <td>0.99490</td>\n",
       "      <td>3.45</td>\n",
       "      <td>0.58</td>\n",
       "      <td>10.5</td>\n",
       "      <td>5</td>\n",
       "    </tr>\n",
       "    <tr>\n",
       "      <th>1595</th>\n",
       "      <td>5.9</td>\n",
       "      <td>0.550</td>\n",
       "      <td>0.10</td>\n",
       "      <td>2.2</td>\n",
       "      <td>0.062</td>\n",
       "      <td>39.0</td>\n",
       "      <td>51.0</td>\n",
       "      <td>0.99512</td>\n",
       "      <td>3.52</td>\n",
       "      <td>0.76</td>\n",
       "      <td>11.2</td>\n",
       "      <td>6</td>\n",
       "    </tr>\n",
       "    <tr>\n",
       "      <th>1596</th>\n",
       "      <td>6.3</td>\n",
       "      <td>0.510</td>\n",
       "      <td>0.13</td>\n",
       "      <td>2.3</td>\n",
       "      <td>0.076</td>\n",
       "      <td>29.0</td>\n",
       "      <td>40.0</td>\n",
       "      <td>0.99574</td>\n",
       "      <td>3.42</td>\n",
       "      <td>0.75</td>\n",
       "      <td>11.0</td>\n",
       "      <td>6</td>\n",
       "    </tr>\n",
       "    <tr>\n",
       "      <th>1597</th>\n",
       "      <td>5.9</td>\n",
       "      <td>0.645</td>\n",
       "      <td>0.12</td>\n",
       "      <td>2.0</td>\n",
       "      <td>0.075</td>\n",
       "      <td>32.0</td>\n",
       "      <td>44.0</td>\n",
       "      <td>0.99547</td>\n",
       "      <td>3.57</td>\n",
       "      <td>0.71</td>\n",
       "      <td>10.2</td>\n",
       "      <td>5</td>\n",
       "    </tr>\n",
       "    <tr>\n",
       "      <th>1598</th>\n",
       "      <td>6.0</td>\n",
       "      <td>0.310</td>\n",
       "      <td>0.47</td>\n",
       "      <td>3.6</td>\n",
       "      <td>0.067</td>\n",
       "      <td>18.0</td>\n",
       "      <td>42.0</td>\n",
       "      <td>0.99549</td>\n",
       "      <td>3.39</td>\n",
       "      <td>0.66</td>\n",
       "      <td>11.0</td>\n",
       "      <td>6</td>\n",
       "    </tr>\n",
       "  </tbody>\n",
       "</table>\n",
       "<p>1599 rows × 12 columns</p>\n",
       "</div>"
      ],
      "text/plain": [
       "      fixed acidity  volatile acidity  citric acid  residual sugar  chlorides  \\\n",
       "0               7.4             0.700         0.00             1.9      0.076   \n",
       "1               7.8             0.880         0.00             2.6      0.098   \n",
       "2               7.8             0.760         0.04             2.3      0.092   \n",
       "3              11.2             0.280         0.56             1.9      0.075   \n",
       "4               7.4             0.700         0.00             1.9      0.076   \n",
       "...             ...               ...          ...             ...        ...   \n",
       "1594            6.2             0.600         0.08             2.0      0.090   \n",
       "1595            5.9             0.550         0.10             2.2      0.062   \n",
       "1596            6.3             0.510         0.13             2.3      0.076   \n",
       "1597            5.9             0.645         0.12             2.0      0.075   \n",
       "1598            6.0             0.310         0.47             3.6      0.067   \n",
       "\n",
       "      free sulfur dioxide  total sulfur dioxide  density    pH  sulphates  \\\n",
       "0                    11.0                  34.0  0.99780  3.51       0.56   \n",
       "1                    25.0                  67.0  0.99680  3.20       0.68   \n",
       "2                    15.0                  54.0  0.99700  3.26       0.65   \n",
       "3                    17.0                  60.0  0.99800  3.16       0.58   \n",
       "4                    11.0                  34.0  0.99780  3.51       0.56   \n",
       "...                   ...                   ...      ...   ...        ...   \n",
       "1594                 32.0                  44.0  0.99490  3.45       0.58   \n",
       "1595                 39.0                  51.0  0.99512  3.52       0.76   \n",
       "1596                 29.0                  40.0  0.99574  3.42       0.75   \n",
       "1597                 32.0                  44.0  0.99547  3.57       0.71   \n",
       "1598                 18.0                  42.0  0.99549  3.39       0.66   \n",
       "\n",
       "      alcohol  quality  \n",
       "0         9.4        5  \n",
       "1         9.8        5  \n",
       "2         9.8        5  \n",
       "3         9.8        6  \n",
       "4         9.4        5  \n",
       "...       ...      ...  \n",
       "1594     10.5        5  \n",
       "1595     11.2        6  \n",
       "1596     11.0        6  \n",
       "1597     10.2        5  \n",
       "1598     11.0        6  \n",
       "\n",
       "[1599 rows x 12 columns]"
      ]
     },
     "execution_count": 201,
     "metadata": {},
     "output_type": "execute_result"
    }
   ],
   "source": [
    "# Usamos la base de datos de vinos\n",
    "vinos"
   ]
  },
  {
   "cell_type": "code",
   "execution_count": 202,
   "metadata": {},
   "outputs": [],
   "source": [
    "early_stopping = EarlyStopping(\n",
    "    min_delta=0.001, # minimium amount of change to count as an improvement\n",
    "    patience=20, # how many epochs to wait before stopping\n",
    "    restore_best_weights=True,\n",
    ")\n",
    "\n",
    "model = keras.Sequential([\n",
    "    layers.Dense(512, activation='relu', input_shape=[11]),\n",
    "    layers.Dense(512, activation='relu'),\n",
    "    layers.Dense(512, activation='relu'),\n",
    "    layers.Dense(1),\n",
    "])\n",
    "model.compile(\n",
    "    optimizer='adam',\n",
    "    loss='mae',\n",
    ")"
   ]
  },
  {
   "cell_type": "code",
   "execution_count": 203,
   "metadata": {},
   "outputs": [
    {
     "name": "stdout",
     "output_type": "stream",
     "text": [
      "Minimum validation loss: 0.09088339656591415\n"
     ]
    },
    {
     "data": {
      "image/png": "[encoded data removed]",
      "text/plain": [
       "<Figure size 432x288 with 1 Axes>"
      ]
     },
     "metadata": {},
     "output_type": "display_data"
    }
   ],
   "source": [
    "history = model.fit(\n",
    "    X_train_v, y_train_v,\n",
    "    validation_data=(X_valid_v, y_valid_v),\n",
    "    batch_size=256,\n",
    "    epochs=500,\n",
    "    callbacks=[early_stopping], # put your callbacks in a list\n",
    "    verbose=0,  # turn off training log\n",
    ")\n",
    "\n",
    "history_df = pd.DataFrame(history.history)\n",
    "history_df.loc[5:, ['loss', 'val_loss']].plot();\n",
    "print(\"Minimum validation loss: {}\".format(history_df['val_loss'].min()))"
   ]
  },
  {
   "attachments": {},
   "cell_type": "markdown",
   "metadata": {},
   "source": [
    "# Ejercicio 3 : Over/Underfitting\n"
   ]
  },
  {
   "attachments": {},
   "cell_type": "markdown",
   "metadata": {},
   "source": [
    "### Setting up el espacio de los dibujos"
   ]
  },
  {
   "cell_type": "code",
   "execution_count": 204,
   "metadata": {},
   "outputs": [],
   "source": [
    "import matplotlib.pyplot as plt\n",
    "\n",
    "plt.style.use('seaborn-whitegrid')\n",
    "\n",
    "# Set Matplotlib defaults\n",
    "plt.rc('figure', autolayout=True)\n",
    "plt.rc('axes', labelweight='bold', labelsize='large',\n",
    "       titleweight='bold', titlesize=18, titlepad=10)\n",
    "plt.rc('animation', html='html5')"
   ]
  },
  {
   "cell_type": "code",
   "execution_count": 205,
   "metadata": {},
   "outputs": [],
   "source": [
    "import pandas as pd\n",
    "from sklearn.preprocessing import StandardScaler, OneHotEncoder\n",
    "from sklearn.compose import make_column_transformer\n",
    "from sklearn.model_selection import GroupShuffleSplit\n",
    "\n",
    "from tensorflow import keras\n",
    "from tensorflow.keras import layers\n",
    "from tensorflow.keras import callbacks"
   ]
  },
  {
   "attachments": {},
   "cell_type": "markdown",
   "metadata": {},
   "source": [
    "### Se utiliza el dataset de spotify de Kaggle\n",
    "#### Preprocesamiento de la información"
   ]
  },
  {
   "cell_type": "code",
   "execution_count": 206,
   "metadata": {},
   "outputs": [],
   "source": [
    "spotify = pd.read_csv(\"C:\\\\Users\\\\Mateo\\\\OneDrive\\\\Documentos\\\\GitHub\\\\Deep-Learning-projects\\\\Introducción a DL\\\\data\\\\spotify.csv\")"
   ]
  },
  {
   "cell_type": "code",
   "execution_count": 207,
   "metadata": {},
   "outputs": [
    {
     "name": "stdout",
     "output_type": "stream",
     "text": [
      "Input shape: [18]\n"
     ]
    }
   ],
   "source": [
    "x = spotify.copy().dropna()\n",
    "y = x.pop(\"track_popularity\") # nuestro objetivo predictivo\n",
    "artist = x[\"track_artist\"]    # Importante para el group split(las canciones de un artista o van para train o valid)\n",
    "\n",
    "features_num =['danceability', 'energy', 'key', 'loudness', 'mode',\n",
    "                'speechiness', 'acousticness', 'instrumentalness',\n",
    "                'liveness', 'valence', 'tempo', 'duration_ms']\n",
    "\n",
    "features_cat = ['playlist_genre']\n",
    "\n",
    "preprocessor = make_column_transformer(\n",
    "    (StandardScaler(), features_num), # para numericos \n",
    "    (OneHotEncoder(), features_cat),  # para categoricos\n",
    ")\n",
    "\n",
    "\n",
    "# We'll do a \"grouped\" split to keep all of an artist's songs in one\n",
    "# split or the other. This is to help prevent signal leakage.\n",
    "def group_split(X, y, group, train_size=0.75):\n",
    "    splitter = GroupShuffleSplit(train_size=train_size)\n",
    "    train, test = next(splitter.split(X, y, groups=group))\n",
    "    return (X.iloc[train], X.iloc[test], y.iloc[train], y.iloc[test])\n",
    "\n",
    "x_train, x_valid, y_train, y_valid = group_split(x, y, artist)\n",
    "\n",
    "\n",
    "\n",
    "x_train = preprocessor.fit_transform(x_train)   #fit_transform al train\n",
    "x_valid = preprocessor.transform(x_valid)       #fit al validation\n",
    "\n",
    "\n",
    "y_train = y_train / 100 # popularity is on a scale 0-100, so this rescales to 0-1.\n",
    "y_valid = y_valid / 100\n",
    "\n",
    "input_shape = [x_train.shape[1]]\n",
    "print(\"Input shape: {}\".format(input_shape))"
   ]
  },
  {
   "attachments": {},
   "cell_type": "markdown",
   "metadata": {},
   "source": [
    "### Modelo con capacidad baja (1 unidad )"
   ]
  },
  {
   "cell_type": "code",
   "execution_count": 208,
   "metadata": {},
   "outputs": [
    {
     "name": "stdout",
     "output_type": "stream",
     "text": [
      "Minimum Validation Loss: 0.1984\n"
     ]
    },
    {
     "data": {
      "image/png": "[encoded data removed]",
      "text/plain": [
       "<Figure size 432x288 with 1 Axes>"
      ]
     },
     "metadata": {},
     "output_type": "display_data"
    }
   ],
   "source": [
    "model = keras.Sequential([\n",
    "    layers.Dense(1, input_shape=input_shape),\n",
    "])\n",
    "model.compile(\n",
    "    optimizer='adam',\n",
    "    loss='mae',\n",
    ")\n",
    "history = model.fit(\n",
    "    x_train, y_train,\n",
    "    validation_data=(x_valid, y_valid),\n",
    "    batch_size=512,\n",
    "    epochs=50,\n",
    "    verbose=0, # suppress output since we'll plot the curves\n",
    ")\n",
    "history_df = pd.DataFrame(history.history)\n",
    "history_df.loc[10:, ['loss', 'val_loss']].plot()\n",
    "print(\"Minimum Validation Loss: {:0.4f}\".format(history_df['val_loss'].min()));"
   ]
  },
  {
   "attachments": {},
   "cell_type": "markdown",
   "metadata": {},
   "source": [
    "##### Este comportamiento es más que probable que sea underfitting"
   ]
  },
  {
   "cell_type": "code",
   "execution_count": 209,
   "metadata": {},
   "outputs": [
    {
     "name": "stdout",
     "output_type": "stream",
     "text": [
      "Minimum Validation Loss: 0.1975\n"
     ]
    },
    {
     "data": {
      "image/png": "[encoded data removed]",
      "text/plain": [
       "<Figure size 432x288 with 1 Axes>"
      ]
     },
     "metadata": {},
     "output_type": "display_data"
    }
   ],
   "source": [
    "## Agregamos un par de capas más\n",
    "\n",
    "model = keras.Sequential([\n",
    "    layers.Dense(128, activation='relu', input_shape=input_shape),\n",
    "    layers.Dense(64, activation='relu'),\n",
    "    layers.Dense(1)\n",
    "])\n",
    "\n",
    "# Early stopping\n",
    "\n",
    "early_stopping = EarlyStopping(\n",
    "    min_delta=0.001, # minimium amount of change to count as an improvement\n",
    "    patience=20, # how many epochs to wait before stopping\n",
    "    restore_best_weights=True,\n",
    ")\n",
    "\n",
    "\n",
    "model.compile(\n",
    "    optimizer='adam',\n",
    "    loss='mae',\n",
    ")\n",
    "history = model.fit(\n",
    "    x_train, y_train,\n",
    "    validation_data=(x_valid, y_valid),\n",
    "    batch_size=512,\n",
    "    epochs=50,\n",
    "    verbose=0\n",
    ")\n",
    "history_df = pd.DataFrame(history.history)\n",
    "history_df.loc[5:, ['loss', 'val_loss']].plot()\n",
    "print(\"Minimum Validation Loss: {:0.4f}\".format(history_df['val_loss'].min()));"
   ]
  },
  {
   "attachments": {},
   "cell_type": "markdown",
   "metadata": {},
   "source": [
    "#### Acá ya está overfitteando dado que el Loss azul va bajando mientrsa el amarillo va subiendo, lo que significa que está modelando para el train y se pierde para el validación."
   ]
  },
  {
   "cell_type": "code",
   "execution_count": 210,
   "metadata": {},
   "outputs": [
    {
     "name": "stdout",
     "output_type": "stream",
     "text": [
      "Minimum Validation Loss: 0.1994\n"
     ]
    },
    {
     "data": {
      "image/png": "[encoded data removed]",
      "text/plain": [
       "<Figure size 432x288 with 1 Axes>"
      ]
     },
     "metadata": {},
     "output_type": "display_data"
    }
   ],
   "source": [
    "## Definimos el early stopping\n",
    "\n",
    "early_stopping = EarlyStopping(\n",
    "    min_delta=0.001, # minimium amount of change to count as an improvement\n",
    "    patience=5, # how many epochs to wait before stopping\n",
    "    restore_best_weights=True,\n",
    ")\n",
    "\n",
    "\n",
    "# Establecemos el modelo\n",
    "\n",
    "model = keras.Sequential([\n",
    "    layers.Dense(128, activation='relu', input_shape=input_shape),\n",
    "    layers.Dense(64, activation='relu'),    \n",
    "    layers.Dense(1)\n",
    "])\n",
    "\n",
    "# Algoritmo de perdida y optimizador (SGD)\n",
    "model.compile(\n",
    "    optimizer='adam',\n",
    "    loss='mae',\n",
    ")\n",
    "\n",
    "# Fittear el modelo\n",
    "history = model.fit(\n",
    "    x_train, y_train,\n",
    "    validation_data=(x_valid, y_valid),\n",
    "    batch_size=512,\n",
    "    epochs=50,\n",
    "    callbacks=[early_stopping],\n",
    "    verbose=0\n",
    ")\n",
    "\n",
    "history_df = pd.DataFrame(history.history)\n",
    "history_df.loc[:, ['loss', 'val_loss']].plot()\n",
    "print(\"Minimum Validation Loss: {:0.4f}\".format(history_df['val_loss'].min()));"
   ]
  },
  {
   "attachments": {},
   "cell_type": "markdown",
   "metadata": {},
   "source": [
    "Acá una vez comienza a aumentar el error en la validación se detiene el algoritmo y restaura los pesos donde val_loss era menor."
   ]
  },
  {
   "attachments": {},
   "cell_type": "markdown",
   "metadata": {},
   "source": [
    "## Tipos de capas diferentes a las Dense"
   ]
  },
  {
   "attachments": {},
   "cell_type": "markdown",
   "metadata": {},
   "source": [
    "### Dropout\n",
    "##### Objetivo: Evitar overfitting\n",
    "¿Cómo hace esto?\n",
    "\n",
    "Las relaciones espureas son como conspiraciones, si elimina una pieza de esta, todo se cae. Esto es lo que hace la dropout layer, aleatoriamente quita una fracción de los input de las capas, esto hace  que sea más dificil aprender estos patrones \"conspiranoicos\"."
   ]
  },
  {
   "cell_type": "code",
   "execution_count": 211,
   "metadata": {},
   "outputs": [
    {
     "data": {
      "text/plain": [
       "<keras.engine.sequential.Sequential at 0x2648df0a280>"
      ]
     },
     "execution_count": 211,
     "metadata": {},
     "output_type": "execute_result"
    }
   ],
   "source": [
    "## Como implementar el dropout\n",
    "keras.Sequential([\n",
    "    # ...\n",
    "    layers.Dropout(rate=0.3), # apply 30% dropout to the next layer\n",
    "    layers.Dense(16),\n",
    "    # ...\n",
    "])"
   ]
  },
  {
   "attachments": {},
   "cell_type": "markdown",
   "metadata": {},
   "source": [
    "### Batch normalization\n",
    "\n",
    "### IMPORTANTE:\n",
    "Siempre con NN es importante tener todas las features en una misma escala (normalizar).\n",
    "Recomendados: scikit -StandarScaler o -MinMaxScaler\n",
    "\n",
    "¿Por qué?\n",
    "SGD hace cambios en los pesos dependiendo del cambio que haga la activación, diferentes tamaños lo hace inestable."
   ]
  },
  {
   "cell_type": "code",
   "execution_count": 212,
   "metadata": {},
   "outputs": [
    {
     "data": {
      "text/plain": [
       "(<keras.layers.core.activation.Activation at 0x264945b3d30>,)"
      ]
     },
     "execution_count": 212,
     "metadata": {},
     "output_type": "execute_result"
    }
   ],
   "source": [
    "# Basicamente batchnorm normaliza la información (input) ya normalizada.\n",
    "\n",
    "#Formas de agregarla:\n",
    "\n",
    "#1\n",
    "layers.Dense(16, activation='relu'),\n",
    "layers.BatchNormalization(),\n",
    "\n",
    "#2 \n",
    "layers.Dense(16),\n",
    "layers.BatchNormalization(),\n",
    "layers.Activation('relu'),"
   ]
  },
  {
   "attachments": {},
   "cell_type": "markdown",
   "metadata": {},
   "source": [
    "### Ejemplo"
   ]
  },
  {
   "cell_type": "code",
   "execution_count": 223,
   "metadata": {},
   "outputs": [],
   "source": [
    "model = keras.Sequential([\n",
    "    layers.Dense(2048, activation='relu', input_shape=[18]),\n",
    "    layers.Dropout(0.3),\n",
    "    layers.BatchNormalization(),\n",
    "    layers.Dense(2048, activation='relu'),\n",
    "    layers.Dropout(0.3),\n",
    "    layers.BatchNormalization(),\n",
    "    layers.Dense(2048, activation='relu'),\n",
    "    layers.Dropout(0.3),\n",
    "    layers.BatchNormalization(),\n",
    "    layers.Dense(1),\n",
    "])"
   ]
  },
  {
   "attachments": {},
   "cell_type": "markdown",
   "metadata": {},
   "source": [
    "Utilizamos la base de vinos"
   ]
  },
  {
   "cell_type": "code",
   "execution_count": 224,
   "metadata": {},
   "outputs": [],
   "source": [
    "# Bases de entrenamiento y validación\n",
    "entrenamiento = vinos.sample(frac=0.7,random_state=0)\n",
    "validacion = vinos.drop(entrenamiento.index)\n",
    "\n",
    "# Escalar la información\n",
    "\n",
    "max_ = entrenamiento.max(axis=0)\n",
    "min_ = entrenamiento.min(axis=0)\n",
    "df_train = (entrenamiento - min_) / (max_ - min_)\n",
    "df_valid = (validacion - min_) / (max_ - min_)\n",
    " ## escalo con respecto a train siempre?\n",
    "\n",
    "# Separar las X de las Y para entrenamiento y validación\n",
    "\n",
    "X_train_v = df_train.drop('quality', axis=1)\n",
    "X_valid_v = df_valid.drop('quality', axis=1)\n",
    "y_train_v = df_train['quality']\n",
    "y_valid_v = df_valid['quality']"
   ]
  },
  {
   "cell_type": "code",
   "execution_count": 219,
   "metadata": {},
   "outputs": [
    {
     "data": {
      "text/plain": [
       "(23985, 18)"
      ]
     },
     "execution_count": 219,
     "metadata": {},
     "output_type": "execute_result"
    }
   ],
   "source": [
    "x_train.shape"
   ]
  },
  {
   "cell_type": "code",
   "execution_count": 225,
   "metadata": {},
   "outputs": [
    {
     "name": "stdout",
     "output_type": "stream",
     "text": [
      "Minimum Validation Loss: 0.0595\n"
     ]
    },
    {
     "data": {
      "image/png": "[encoded data removed]",
      "text/plain": [
       "<Figure size 432x288 with 1 Axes>"
      ]
     },
     "metadata": {},
     "output_type": "display_data"
    }
   ],
   "source": [
    "model.compile(\n",
    "    optimizer='adam',\n",
    "    loss='mse',\n",
    ")\n",
    "\n",
    "early_stopping = EarlyStopping(\n",
    "    min_delta=0.001, # minimium amount of change to count as an improvement\n",
    "    patience=20, # how many epochs to wait before stopping\n",
    "    restore_best_weights=True,\n",
    ")\n",
    "\n",
    "history = model.fit(\n",
    "    x_train, y_train,\n",
    "    validation_data=(x_valid, y_valid),\n",
    "    batch_size=256,\n",
    "    epochs=50,\n",
    "    verbose=0,\n",
    "    callbacks=early_stopping\n",
    ")\n",
    "\n",
    "\n",
    "# Show the learning curves\n",
    "history_df = pd.DataFrame(history.history)\n",
    "history_df.loc[:, ['loss', 'val_loss']].plot();\n",
    "print(\"Minimum Validation Loss: {:0.4f}\".format(history_df['val_loss'].min()));"
   ]
  },
  {
   "cell_type": "code",
   "execution_count": 229,
   "metadata": {},
   "outputs": [
    {
     "name": "stdout",
     "output_type": "stream",
     "text": [
      "Minimum Validation Loss: 0.0595\n"
     ]
    },
    {
     "data": {
      "image/png": "[encoded data removed]",
      "text/plain": [
       "<Figure size 432x288 with 1 Axes>"
      ]
     },
     "metadata": {},
     "output_type": "display_data"
    }
   ],
   "source": [
    "# Show the learning curves\n",
    "history_df = pd.DataFrame(history.history)\n",
    "history_df.loc[20:, ['loss', 'val_loss']].plot();\n",
    "print(\"Minimum Validation Loss: {:0.4f}\".format(history_df['val_loss'].min()));"
   ]
  },
  {
   "attachments": {},
   "cell_type": "markdown",
   "metadata": {},
   "source": [
    "## Ejercicio 4 : Mejorando las predicciones de la base spotify"
   ]
  },
  {
   "attachments": {},
   "cell_type": "markdown",
   "metadata": {},
   "source": [
    "#### Cargamos nuevamente la base de spotify"
   ]
  },
  {
   "cell_type": "code",
   "execution_count": 230,
   "metadata": {},
   "outputs": [
    {
     "name": "stdout",
     "output_type": "stream",
     "text": [
      "Input shape: [18]\n"
     ]
    }
   ],
   "source": [
    "x = spotify.copy().dropna()\n",
    "y = x.pop(\"track_popularity\") # nuestro objetivo predictivo\n",
    "artist = x[\"track_artist\"]    # Importante para el group split(las canciones de un artista o van para train o valid)\n",
    "\n",
    "features_num =['danceability', 'energy', 'key', 'loudness', 'mode',\n",
    "                'speechiness', 'acousticness', 'instrumentalness',\n",
    "                'liveness', 'valence', 'tempo', 'duration_ms']\n",
    "\n",
    "features_cat = ['playlist_genre']\n",
    "\n",
    "preprocessor = make_column_transformer(\n",
    "    (StandardScaler(), features_num), # para numericos \n",
    "    (OneHotEncoder(), features_cat),  # para categoricos\n",
    ")\n",
    "\n",
    "\n",
    "# We'll do a \"grouped\" split to keep all of an artist's songs in one\n",
    "# split or the other. This is to help prevent signal leakage.\n",
    "def group_split(X, y, group, train_size=0.75):\n",
    "    splitter = GroupShuffleSplit(train_size=train_size)\n",
    "    train, test = next(splitter.split(X, y, groups=group))\n",
    "    return (X.iloc[train], X.iloc[test], y.iloc[train], y.iloc[test])\n",
    "\n",
    "x_train, x_valid, y_train, y_valid = group_split(x, y, artist)\n",
    "\n",
    "\n",
    "\n",
    "x_train = preprocessor.fit_transform(x_train)   #fit_transform al train\n",
    "x_valid = preprocessor.transform(x_valid)       #fit al validation\n",
    "\n",
    "\n",
    "y_train = y_train / 100 # popularity is on a scale 0-100, so this rescales to 0-1.\n",
    "y_valid = y_valid / 100\n",
    "\n",
    "input_shape = [x_train.shape[1]]\n",
    "print(\"Input shape: {}\".format(input_shape))"
   ]
  },
  {
   "attachments": {},
   "cell_type": "markdown",
   "metadata": {},
   "source": [
    "Declaramos el modelo con unas neuronas de dropout"
   ]
  },
  {
   "cell_type": "code",
   "execution_count": 233,
   "metadata": {},
   "outputs": [],
   "source": [
    "model = keras.Sequential([\n",
    "    layers.Dense(128, activation='relu', input_shape=input_shape),\n",
    "    layers.Dropout(0.3),\n",
    "    layers.Dense(64, activation='relu'),\n",
    "    layers.Dropout(0.3),\n",
    "    layers.Dense(1)\n",
    "])"
   ]
  },
  {
   "cell_type": "code",
   "execution_count": 234,
   "metadata": {},
   "outputs": [
    {
     "name": "stdout",
     "output_type": "stream",
     "text": [
      "Minimum Validation Loss: 0.1910\n"
     ]
    },
    {
     "data": {
      "image/png": "[encoded data removed]",
      "text/plain": [
       "<Figure size 432x288 with 1 Axes>"
      ]
     },
     "metadata": {},
     "output_type": "display_data"
    }
   ],
   "source": [
    "model.compile(\n",
    "    optimizer='adam',\n",
    "    loss='mae',\n",
    ")\n",
    "history = model.fit(\n",
    "    x_train, y_train,\n",
    "    validation_data=(x_valid, y_valid),\n",
    "    batch_size=512,\n",
    "    epochs=50,\n",
    "    verbose=0,\n",
    ")\n",
    "history_df = pd.DataFrame(history.history)\n",
    "history_df.loc[:, ['loss', 'val_loss']].plot()\n",
    "print(\"Minimum Validation Loss: {:0.4f}\".format(history_df['val_loss'].min()))"
   ]
  },
  {
   "attachments": {},
   "cell_type": "markdown",
   "metadata": {},
   "source": [
    "## Ejercicio 5 : Aplicación del batchnorm"
   ]
  },
  {
   "cell_type": "code",
   "execution_count": 236,
   "metadata": {},
   "outputs": [],
   "source": [
    "# Cargar la base\n",
    "concrete = pd.read_csv(\"C:\\\\Users\\\\Mateo\\\\OneDrive\\\\Documentos\\\\GitHub\\\\Deep-Learning-projects\\\\Introducción a DL\\\\data\\\\concrete.csv\")\n",
    "\n",
    "df = concrete.copy()\n",
    "\n",
    "df_train = df.sample(frac=0.7, random_state=0)\n",
    "df_valid = df.drop(df_train.index)\n",
    "\n",
    "X_train = df_train.drop('CompressiveStrength', axis=1)\n",
    "X_valid = df_valid.drop('CompressiveStrength', axis=1)\n",
    "y_train = df_train['CompressiveStrength']\n",
    "y_valid = df_valid['CompressiveStrength']\n",
    "\n",
    "input_shape = [X_train.shape[1]]"
   ]
  },
  {
   "attachments": {},
   "cell_type": "markdown",
   "metadata": {},
   "source": [
    " ### Modelo sin batchnorm"
   ]
  },
  {
   "cell_type": "code",
   "execution_count": 238,
   "metadata": {},
   "outputs": [
    {
     "name": "stdout",
     "output_type": "stream",
     "text": [
      "Minimum Validation Loss: nan\n"
     ]
    },
    {
     "data": {
      "image/png": "[encoded data removed]",
      "text/plain": [
       "<Figure size 432x288 with 1 Axes>"
      ]
     },
     "metadata": {},
     "output_type": "display_data"
    }
   ],
   "source": [
    "model = keras.Sequential([\n",
    "    layers.Dense(512, activation='relu', input_shape=input_shape),\n",
    "    layers.Dense(512, activation='relu'),    \n",
    "    layers.Dense(512, activation='relu'),\n",
    "    layers.Dense(1),\n",
    "])\n",
    "model.compile(\n",
    "    optimizer='sgd', # SGD is more sensitive to differences of scale\n",
    "    loss='mae',\n",
    "    metrics=['mae'],\n",
    ")\n",
    "history = model.fit(\n",
    "    X_train, y_train,\n",
    "    validation_data=(X_valid, y_valid),\n",
    "    batch_size=64,\n",
    "    epochs=100,\n",
    "    verbose=0,\n",
    ")\n",
    "\n",
    "history_df = pd.DataFrame(history.history)\n",
    "history_df.loc[0:, ['loss', 'val_loss']].plot()\n",
    "print((\"Minimum Validation Loss: {:0.4f}\").format(history_df['val_loss'].min()))"
   ]
  },
  {
   "attachments": {},
   "cell_type": "markdown",
   "metadata": {},
   "source": [
    "La idea es que salga vacio porque entrenar en este modelo es muy dificil"
   ]
  },
  {
   "attachments": {},
   "cell_type": "markdown",
   "metadata": {},
   "source": [
    "### Modelo con batchnorm"
   ]
  },
  {
   "cell_type": "code",
   "execution_count": 239,
   "metadata": {},
   "outputs": [
    {
     "name": "stdout",
     "output_type": "stream",
     "text": [
      "Minimum Validation Loss: 3.9057\n"
     ]
    },
    {
     "data": {
      "image/png": "[encoded data removed]",
      "text/plain": [
       "<Figure size 432x288 with 1 Axes>"
      ]
     },
     "metadata": {},
     "output_type": "display_data"
    }
   ],
   "source": [
    "# Establecer el modelo con normalización al  inicio y despues de cada ejecución de cada capa.\n",
    "\n",
    "model = keras.Sequential([\n",
    "    layers.BatchNormalization(input_shape=input_shape),\n",
    "    layers.Dense(512, activation='relu' ),\n",
    "    layers.BatchNormalization(),\n",
    "    layers.Dense(512, activation='relu'),\n",
    "    layers.BatchNormalization(),\n",
    "    layers.Dense(512, activation='relu'),\n",
    "    layers.BatchNormalization(),\n",
    "    layers.Dense(1),\n",
    "])\n",
    "\n",
    "# Parametros del modelo\n",
    "\n",
    "model.compile(\n",
    "    optimizer='sgd',\n",
    "    loss='mae',\n",
    "    metrics=['mae'],\n",
    ")\n",
    "EPOCHS = 100\n",
    "history = model.fit(\n",
    "    X_train, y_train,\n",
    "    validation_data=(X_valid, y_valid),\n",
    "    batch_size=64,\n",
    "    epochs=EPOCHS,\n",
    "    verbose=0,\n",
    ")\n",
    "\n",
    "history_df = pd.DataFrame(history.history)\n",
    "history_df.loc[0:, ['loss', 'val_loss']].plot()\n",
    "print((\"Minimum Validation Loss: {:0.4f}\").format(history_df['val_loss'].min()))"
   ]
  },
  {
   "attachments": {},
   "cell_type": "markdown",
   "metadata": {},
   "source": [
    "Si ayudó el batchnorm porque ya se puede entrenar"
   ]
  },
  {
   "attachments": {},
   "cell_type": "markdown",
   "metadata": {},
   "source": [
    "## Parte 5: Clasificación Binaria"
   ]
  },
  {
   "cell_type": "code",
   "execution_count": 241,
   "metadata": {},
   "outputs": [],
   "source": [
    "ion = pd.read_csv(\"C:\\\\Users\\\\Mateo\\\\OneDrive\\\\Documentos\\\\GitHub\\\\Deep-Learning-projects\\\\Introducción a DL\\\\data\\\\ion.csv\",index_col=0)\n"
   ]
  },
  {
   "cell_type": "code",
   "execution_count": 243,
   "metadata": {},
   "outputs": [],
   "source": [
    "df = ion.copy()\n",
    "df['Class'] = df['Class'].map({'good': 0, 'bad': 1})\n",
    "\n",
    "df_train = df.sample(frac=0.7, random_state=0)\n",
    "df_valid = df.drop(df_train.index)\n",
    "\n",
    "max_ = df_train.max(axis=0)\n",
    "min_ = df_train.min(axis=0)\n",
    "\n",
    "df_train = (df_train - min_) / (max_ - min_)\n",
    "df_valid = (df_valid - min_) / (max_ - min_)\n",
    "df_train.dropna(axis=1, inplace=True) # drop the empty feature in column 2\n",
    "df_valid.dropna(axis=1, inplace=True)\n",
    "\n",
    "X_train = df_train.drop('Class', axis=1)\n",
    "X_valid = df_valid.drop('Class', axis=1)\n",
    "y_train = df_train['Class']\n",
    "y_valid = df_valid['Class']"
   ]
  },
  {
   "cell_type": "code",
   "execution_count": 244,
   "metadata": {},
   "outputs": [],
   "source": [
    "# Establecer el modelo\n",
    "\n",
    "# cambió la activación de la ultima a sigmoide\n",
    "model = keras.Sequential([\n",
    "    layers.Dense(4, activation='relu', input_shape=[33]),\n",
    "    layers.Dense(4, activation='relu'),    \n",
    "    layers.Dense(1, activation='sigmoid'),\n",
    "])\n",
    "\n",
    "# Parametros\n",
    "# Cambió el loss\n",
    "model.compile(\n",
    "    optimizer='adam',\n",
    "    loss='binary_crossentropy',\n",
    "    metrics=['binary_accuracy'],\n",
    ")\n",
    "\n",
    "early_stopping = keras.callbacks.EarlyStopping(\n",
    "    patience=10,\n",
    "    min_delta=0.001,\n",
    "    restore_best_weights=True,\n",
    ")\n",
    "\n",
    "history = model.fit(\n",
    "    X_train, y_train,\n",
    "    validation_data=(X_valid, y_valid),\n",
    "    batch_size=512,\n",
    "    epochs=1000,\n",
    "    callbacks=[early_stopping],\n",
    "    verbose=0, # hide the output because we have so many epochs\n",
    ")"
   ]
  },
  {
   "cell_type": "code",
   "execution_count": 245,
   "metadata": {},
   "outputs": [
    {
     "name": "stdout",
     "output_type": "stream",
     "text": [
      "Best Validation Loss: 0.6845\n",
      "Best Validation Accuracy: 0.7429\n"
     ]
    },
    {
     "data": {
      "image/png": "[encoded data removed]",
      "text/plain": [
       "<Figure size 432x288 with 1 Axes>"
      ]
     },
     "metadata": {},
     "output_type": "display_data"
    },
    {
     "data": {
      "image/png": "[encoded data removed]",
      "text/plain": [
       "<Figure size 432x288 with 1 Axes>"
      ]
     },
     "metadata": {},
     "output_type": "display_data"
    }
   ],
   "source": [
    "history_df = pd.DataFrame(history.history)\n",
    "# Start the plot at epoch 5\n",
    "history_df.loc[5:, ['loss', 'val_loss']].plot()\n",
    "history_df.loc[5:, ['binary_accuracy', 'val_binary_accuracy']].plot()\n",
    "\n",
    "print((\"Best Validation Loss: {:0.4f}\" +\\\n",
    "      \"\\nBest Validation Accuracy: {:0.4f}\")\\\n",
    "      .format(history_df['val_loss'].min(), \n",
    "              history_df['val_binary_accuracy'].max()))"
   ]
  },
  {
   "attachments": {},
   "cell_type": "markdown",
   "metadata": {},
   "source": [
    "## Ejercicio 6 : Predicción de cancelaciones"
   ]
  },
  {
   "cell_type": "code",
   "execution_count": 251,
   "metadata": {},
   "outputs": [],
   "source": [
    "from sklearn.model_selection import train_test_split\n",
    "from sklearn.preprocessing import StandardScaler, OneHotEncoder\n",
    "from sklearn.impute import SimpleImputer\n",
    "from sklearn.pipeline import make_pipeline\n",
    "from sklearn.compose import make_column_transformer"
   ]
  },
  {
   "cell_type": "code",
   "execution_count": 249,
   "metadata": {},
   "outputs": [],
   "source": [
    "hotel = pd.read_csv(\"C:\\\\Users\\\\Mateo\\\\OneDrive\\\\Documentos\\\\GitHub\\\\Deep-Learning-projects\\\\Introducción a DL\\\\data\\\\hotel.csv\")\n"
   ]
  },
  {
   "cell_type": "code",
   "execution_count": 252,
   "metadata": {},
   "outputs": [],
   "source": [
    "# Copiar la información del dataframe original a otro (buena practica)\n",
    "X = hotel.copy()\n",
    "y = X.pop('is_canceled')\n",
    "\n",
    "# Cambiar de nombre a numero\n",
    "X['arrival_date_month'] = \\\n",
    "    X['arrival_date_month'].map(\n",
    "        {'January':1, 'February': 2, 'March':3,\n",
    "         'April':4, 'May':5, 'June':6, 'July':7,\n",
    "         'August':8, 'September':9, 'October':10,\n",
    "         'November':11, 'December':12}\n",
    "    )\n",
    "\n",
    "#Guardar las features numericas\n",
    "\n",
    "features_num = [\n",
    "    \"lead_time\", \"arrival_date_week_number\",\n",
    "    \"arrival_date_day_of_month\", \"stays_in_weekend_nights\",\n",
    "    \"stays_in_week_nights\", \"adults\", \"children\", \"babies\",\n",
    "    \"is_repeated_guest\", \"previous_cancellations\",\n",
    "    \"previous_bookings_not_canceled\", \"required_car_parking_spaces\",\n",
    "    \"total_of_special_requests\", \"adr\",\n",
    "]\n",
    "\n",
    "# Features categoricas\n",
    "features_cat = [\n",
    "    \"hotel\", \"arrival_date_month\", \"meal\",\n",
    "    \"market_segment\", \"distribution_channel\",\n",
    "    \"reserved_room_type\", \"deposit_type\", \"customer_type\",\n",
    "]\n",
    "\n",
    "#transformador de variables numericas\n",
    "\n",
    "transformer_num = make_pipeline(\n",
    "    SimpleImputer(strategy=\"constant\"), # there are a few missing values\n",
    "    StandardScaler(),\n",
    ")\n",
    "\n",
    "#transformador de categoricas\n",
    "\n",
    "transformer_cat = make_pipeline(\n",
    "    SimpleImputer(strategy=\"constant\", fill_value=\"NA\"),\n",
    "    OneHotEncoder(handle_unknown='ignore'),\n",
    ")\n",
    "\n",
    "# declarar (transformador, columnas)\n",
    "\n",
    "preprocessor = make_column_transformer(\n",
    "    (transformer_num, features_num),\n",
    "    (transformer_cat, features_cat),\n",
    ")\n",
    "\n",
    "\n",
    "# stratify - make sure classes are evenlly represented across splits\n",
    "X_train, X_valid, y_train, y_valid = \\\n",
    "    train_test_split(X, y, stratify=y, train_size=0.75)\n",
    "\n",
    "# el train va con fit_transform y el validation con solo transform\n",
    "\n",
    "X_train = preprocessor.fit_transform(X_train)\n",
    "X_valid = preprocessor.transform(X_valid)\n",
    "\n",
    "input_shape = [X_train.shape[1]]"
   ]
  },
  {
   "cell_type": "code",
   "execution_count": 254,
   "metadata": {},
   "outputs": [
    {
     "data": {
      "text/plain": [
       "<AxesSubplot:title={'center':'Accuracy'}>"
      ]
     },
     "execution_count": 254,
     "metadata": {},
     "output_type": "execute_result"
    },
    {
     "data": {
      "image/png": "[encoded data removed]",
      "text/plain": [
       "<Figure size 432x288 with 1 Axes>"
      ]
     },
     "metadata": {},
     "output_type": "display_data"
    },
    {
     "data": {
      "image/png": "[encoded data removed]",
      "text/plain": [
       "<Figure size 432x288 with 1 Axes>"
      ]
     },
     "metadata": {},
     "output_type": "display_data"
    }
   ],
   "source": [
    "# Establecimiento del modelo\n",
    "\n",
    "model = keras.Sequential([\n",
    "    layers.BatchNormalization(input_shape=input_shape),\n",
    "    layers.Dense(256,activation=\"relu\"),\n",
    "    layers.BatchNormalization(),\n",
    "    layers.Dropout(0.3),\n",
    "    layers.Dense(256,activation=\"relu\"),\n",
    "    layers.BatchNormalization(),\n",
    "    layers.Dropout(0.3),\n",
    "    layers.Dense(1,activation=\"sigmoid\")\n",
    "])\n",
    "\n",
    "# Parametros\n",
    "\n",
    "model.compile(\n",
    "optimizer=\"adam\",\n",
    "loss=\"binary_crossentropy\",\n",
    "metrics=['binary_accuracy']\n",
    ")\n",
    "\n",
    "early_stopping = keras.callbacks.EarlyStopping(\n",
    "    patience=5,\n",
    "    min_delta=0.001,\n",
    "    restore_best_weights=True,\n",
    ")\n",
    "history = model.fit(\n",
    "    X_train, y_train,\n",
    "    validation_data=(X_valid, y_valid),\n",
    "    batch_size=512,\n",
    "    epochs=200,\n",
    "    callbacks=[early_stopping],verbose=0\n",
    ")\n",
    "\n",
    "history_df = pd.DataFrame(history.history)\n",
    "history_df.loc[:, ['loss', 'val_loss']].plot(title=\"Cross-entropy\")\n",
    "history_df.loc[:, ['binary_accuracy', 'val_binary_accuracy']].plot(title=\"Accuracy\")"
   ]
  }
 ],
 "metadata": {
  "kernelspec": {
   "display_name": "base",
   "language": "python",
   "name": "python3"
  },
  "language_info": {
   "codemirror_mode": {
    "name": "ipython",
    "version": 3
   },
   "file_extension": ".py",
   "mimetype": "text/x-python",
   "name": "python",
   "nbconvert_exporter": "python",
   "pygments_lexer": "ipython3",
   "version": "3.9.7"
  },
  "orig_nbformat": 4,
  "vscode": {
   "interpreter": {
    "hash": "71a00d3e08e5ba206713286c45aa105eaebc7f8fd069fae85e11b8f2ace1fa2e"
   }
  }
 },
 "nbformat": 4,
 "nbformat_minor": 2
}
